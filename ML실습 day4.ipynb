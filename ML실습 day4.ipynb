{
 "cells": [
  {
   "cell_type": "markdown",
   "metadata": {},
   "source": [
    "### Reguralization (dropout, normalization)\n",
    "\n",
    "1. library\n",
    "2. load dataset and preprocess\n",
    "3. MLP naive setting\n",
    "4. MLP batch norm (with test phase/ with train,test phase)\n",
    "5. dropout\n",
    "6. batch norm & dropout"
   ]
  },
  {
   "cell_type": "code",
   "execution_count": 1,
   "metadata": {},
   "outputs": [],
   "source": [
    "##library\n",
    "\n",
    "import os\n",
    "import numpy as np\n",
    "import tensorflow as tf\n",
    "\n",
    "from matplotlib import pyplot as plt\n",
    "from sklearn.metrics import confusion_matrix\n",
    "\n",
    "from tensorflow.keras.datasets import mnist as data\n",
    "try: os.mkdir('MNIST')\n",
    "except: pass"
   ]
  },
  {
   "cell_type": "code",
   "execution_count": 17,
   "metadata": {},
   "outputs": [],
   "source": [
    "import warnings\n",
    "warnings.filterwarnings('ignore')"
   ]
  },
  {
   "cell_type": "code",
   "execution_count": 8,
   "metadata": {},
   "outputs": [
    {
     "name": "stdout",
     "output_type": "stream",
     "text": [
      "(60000, 28, 28) (60000,) (10000, 28, 28) (10000,) \n",
      "\n",
      "60000 (28, 28) 10 \n",
      "\n",
      "(60000, 784) (10000, 784) (60000, 10) (10000, 10)\n"
     ]
    }
   ],
   "source": [
    "##load dataset and preprocess\n",
    "\n",
    "#load dataset\n",
    "(x_train, y_train), (x_test, y_test) = data.load_data()\n",
    "print(x_train.shape, y_train.shape, x_test.shape, y_test.shape, '\\n')\n",
    "\n",
    "train_n_sample = len(x_train)\n",
    "shape = x_train[0].shape[0:]\n",
    "n_class = len(np.unique(y_train))\n",
    "print(train_n_sample, shape, n_class, '\\n')\n",
    "\n",
    "#x reshape and x normalization\n",
    "X_train = x_train.reshape(-1, np.prod(shape)) / 255.\n",
    "X_test = x_test.reshape(-1, np.prod(shape)) / 255.\n",
    "\n",
    "#y onehot\n",
    "Y_train = np.eye(n_class)[y_train.reshape(-1)]\n",
    "Y_test = np.eye(n_class)[y_test.reshape(-1)]\n",
    "\n",
    "print(X_train.shape, X_test.shape, Y_train.shape, Y_test.shape)"
   ]
  },
  {
   "cell_type": "code",
   "execution_count": 10,
   "metadata": {},
   "outputs": [],
   "source": [
    "##multi-layer perceptron (MLP)\n",
    "\n",
    "#hyper-parameter setting\n",
    "training_epochs = 100\n",
    "learning_rate = 1e-1\n",
    "display_step = 10\n",
    "\n",
    "batch_size = 100\n",
    "\n",
    "hidden_nodes = [1024, 300]\n",
    "activation = tf.nn.tanh"
   ]
  },
  {
   "cell_type": "code",
   "execution_count": 13,
   "metadata": {},
   "outputs": [],
   "source": [
    "##build FC layer model\n",
    "\n",
    "#build 3-layer fully-connected neural network model\n",
    "#hidden layers' size is [1024, 300]\n",
    "tf.reset_default_graph()\n",
    "\n",
    "#placeholder\n",
    "tf_X = tf.placeholder(tf.float32, (None, np.prod(shape)))\n",
    "tf_Y = tf.placeholder(tf.float32, (None, n_class))\n",
    "\n",
    "#model\n",
    "hidden1 = tf.layers.dense(tf_X, 512, activation=activation)\n",
    "logit = tf.layers.dense(hidden1, n_class)\n",
    "pred = tf.nn.softmax(logit)\n",
    "\n",
    "#loss and optimizer\n",
    "loss = tf.losses.softmax_cross_entropy(tf_Y, logit)\n",
    "optimizer = tf.train.GradientDescentOptimizer(learning_rate).minimize(loss)"
   ]
  },
  {
   "cell_type": "code",
   "execution_count": 15,
   "metadata": {},
   "outputs": [
    {
     "name": "stdout",
     "output_type": "stream",
     "text": [
      "Epoch: 10, \t Loss: 0.11329735070466995\n",
      "Epoch: 20, \t Loss: 0.05622197315096855\n",
      "Epoch: 30, \t Loss: 0.03304554149508476\n",
      "Epoch: 40, \t Loss: 0.020751362666487694\n",
      "Epoch: 50, \t Loss: 0.01375524327158928\n",
      "Epoch: 60, \t Loss: 0.009726607240736485\n",
      "Epoch: 70, \t Loss: 0.007215866819024086\n",
      "Epoch: 80, \t Loss: 0.005555033218115568\n",
      "Epoch: 90, \t Loss: 0.0044400738552212715\n",
      "Epoch: 100, \t Loss: 0.0036810142919421196\n"
     ]
    }
   ],
   "source": [
    "##train model\n",
    "\n",
    "with tf.Session() as sess:\n",
    "    #init\n",
    "    sess.run(tf.global_variables_initializer())\n",
    "    \n",
    "    #train\n",
    "    epoch_losses, iter_losses = [],[]\n",
    "    total_batch = int(train_n_sample / batch_size)\n",
    "    for epoch in range(training_epochs):\n",
    "        #shuffle\n",
    "        random_idx = np.random.permutation(train_n_sample)\n",
    "        shuffled_X_train = X_train[random_idx]\n",
    "        shuffled_Y_train = Y_train[random_idx]\n",
    "        \n",
    "        for i in range(total_batch):\n",
    "            #get batch\n",
    "            batch_X_train = shuffled_X_train[i*batch_size : (i+1)*batch_size]\n",
    "            batch_Y_train = shuffled_Y_train[i*batch_size : (i+1)*batch_size]\n",
    "            \n",
    "            _, l = sess.run([optimizer, loss],\n",
    "                            feed_dict = {tf_X:batch_X_train, tf_Y:batch_Y_train})\n",
    "            iter_losses.append(l)\n",
    "        epoch_losses.append(np.mean(iter_losses[-total_batch:]))\n",
    "        \n",
    "        if (epoch + 1) % display_step == 0:\n",
    "            print('Epoch: {}, \\t Loss: {}'.format(epoch+1, epoch_losses[-1]))\n",
    "            \n",
    "    #result\n",
    "    train_pred = sess.run(pred, feed_dict={tf_X:X_train})\n",
    "    test_pred = sess.run(pred, feed_dict={tf_X:X_test})\n",
    "    \n",
    "    #save\n",
    "    saver = tf.train.Saver()\n",
    "    saver.save(sess, 'MNIST/naive_512/model')"
   ]
  },
  {
   "cell_type": "code",
   "execution_count": 19,
   "metadata": {},
   "outputs": [],
   "source": [
    "with tf.Session() as sess:\n",
    "    saver = tf.train.import_meta_graph('MNIST/naive_512/model.meta')\n",
    "    saver.restore(sess, 'MNIST/naive_512/model')"
   ]
  },
  {
   "cell_type": "code",
   "execution_count": 20,
   "metadata": {},
   "outputs": [
    {
     "data": {
      "image/png": "[encoded data removed]",
      "text/plain": [
       "<Figure size 432x288 with 1 Axes>"
      ]
     },
     "metadata": {
      "needs_background": "light"
     },
     "output_type": "display_data"
    },
    {
     "name": "stdout",
     "output_type": "stream",
     "text": [
      "train  accuracy:  0.9999833333333333\n",
      "test  accuracy:  0.9809\n",
      "[[ 971    0    1    0    1    1    2    1    3    0]\n",
      " [   0 1125    2    2    0    1    2    1    2    0]\n",
      " [   4    0 1013    1    1    0    4    5    4    0]\n",
      " [   0    0    4  991    0    3    0    4    3    5]\n",
      " [   2    0    1    1  961    0    5    2    1    9]\n",
      " [   4    0    0    6    1  870    4    1    4    2]\n",
      " [   6    3    0    1    2    4  940    0    2    0]\n",
      " [   2    3    6    3    1    0    0 1005    4    4]\n",
      " [   3    0    2    4    3    3    3    2  952    2]\n",
      " [   2    2    0    6    6    1    1    6    4  981]]\n"
     ]
    }
   ],
   "source": [
    "##plot result\n",
    "\n",
    "#plot epoch losses\n",
    "def plot_epoch_losses(epoch_losses):\n",
    "    plt.figure()\n",
    "    plt.plot(epoch_losses)\n",
    "    plt.show()\n",
    "plot_epoch_losses(epoch_losses)\n",
    "\n",
    "#accuracy\n",
    "def print_accuracy(label, pred, name=''):\n",
    "    accuracy = np.mean(label==pred)\n",
    "    print(name, ' accuracy: ', accuracy)\n",
    "print_accuracy(y_train.reshape(-1), np.argmax(train_pred, axis=1), 'train')\n",
    "print_accuracy(y_test.reshape(-1), np.argmax(test_pred, axis=1), 'test')\n",
    "\n",
    "#confusion matrix\n",
    "def print_confusion_matrix(label, pred):\n",
    "    matrix = confusion_matrix(label, pred)\n",
    "    print(matrix)\n",
    "print_confusion_matrix(y_test.reshape(-1), np.argmax(test_pred, axis=1))"
   ]
  },
  {
   "cell_type": "code",
   "execution_count": 22,
   "metadata": {},
   "outputs": [],
   "source": [
    "##build FC layer model\n",
    "\n",
    "# build 3-layer fully-connected neural network model\n",
    "# hidden layers' size is [1024, 300]\n",
    "tf.reset_default_graph()\n",
    "\n",
    "#placeholder\n",
    "tf_X = tf.placeholder(tf.float32, (None, np.prod(shape)))\n",
    "tf_Y = tf.placeholder(tf.float32, (None, n_class))\n",
    "\n",
    "# model\n",
    "hidden1 = tf.layers.dense(tf_X, hidden_nodes[0], activation=activation)\n",
    "hidden2 = tf.layers.dense(hidden1, hidden_nodes[1], activation=activation)\n",
    "logit = tf.layers.dense(hidden2, n_class)\n",
    "pred = tf.nn.softmax(logit)\n",
    "\n",
    "# loss and optimizer\n",
    "loss = tf.losses.softmax_cross_entropy(tf_Y, pred) ####\n",
    "optimizer = tf.train.GradientDescentOptimizer(learning_rate).minimize(loss)"
   ]
  },
  {
   "cell_type": "code",
   "execution_count": 24,
   "metadata": {},
   "outputs": [
    {
     "name": "stdout",
     "output_type": "stream",
     "text": [
      "Epoch: 10, \t Loss: 1.5215450525283813\n",
      "Epoch: 20, \t Loss: 1.502105474472046\n",
      "Epoch: 30, \t Loss: 1.4921897649765015\n",
      "Epoch: 40, \t Loss: 1.4859610795974731\n",
      "Epoch: 50, \t Loss: 1.4815737009048462\n",
      "Epoch: 60, \t Loss: 1.4786770343780518\n",
      "Epoch: 70, \t Loss: 1.4766343832015991\n",
      "Epoch: 80, \t Loss: 1.4750287532806396\n",
      "Epoch: 90, \t Loss: 1.4737857580184937\n",
      "Epoch: 100, \t Loss: 1.4728362560272217\n"
     ]
    }
   ],
   "source": [
    "##train & save model\n",
    "\n",
    "with tf.Session() as sess:\n",
    "    #init\n",
    "    sess.run(tf.global_variables_initializer())\n",
    "    \n",
    "    #train\n",
    "    epoch_losses, iter_losses = [], []\n",
    "    total_batch = int(train_n_sample / batch_size)\n",
    "    for epoch in range(training_epochs):\n",
    "        #shuffle\n",
    "        random_idx = np.random.permutation(train_n_sample)\n",
    "        shuffled_X_train = X_train[random_idx]\n",
    "        shuffled_Y_train = Y_train[random_idx]\n",
    "        \n",
    "        for i in range(total_batch):\n",
    "            #get batch\n",
    "            batch_X_train = shuffled_X_train[i*batch_size : (i+1)*batch_size]\n",
    "            batch_Y_train = shuffled_Y_train[i*batch_size : (i+1)*batch_size]\n",
    "            \n",
    "            _, l = sess.run([optimizer, loss], \n",
    "                            feed_dict = {tf_X:batch_X_train, tf_Y:batch_Y_train})\n",
    "            iter_losses.append(l)\n",
    "        epoch_losses.append(np.mean(iter_losses[-total_batch:]))\n",
    "        \n",
    "        if (epoch + 1) % display_step == 0:\n",
    "            print('Epoch: {}, \\t Loss: {}'.format(epoch+1, epoch_losses[-1]))\n",
    "    \n",
    "    # result\n",
    "    train_pred = sess.run(pred, feed_dict={tf_X:X_train})\n",
    "    test_pred = sess.run(pred, feed_dict = {tf_X:X_test})\n",
    "    \n",
    "    saver = tf.train.Saver()\n",
    "    saver.save(sess, 'MNIST/naive_1024-300/model')"
   ]
  },
  {
   "cell_type": "code",
   "execution_count": 26,
   "metadata": {},
   "outputs": [],
   "source": [
    "##load model\n",
    "\n",
    "with tf.Session() as sess:\n",
    "    sess = tf.Session()\n",
    "    saver = tf.train.import_meta_graph('MNIST/naive_1024-300/model.meta')\n",
    "    saver.restore(sess, 'MNIST/naive_1024-300/model')\n",
    "    saver.save(sess, 'MNIST/naive_1024-300/model')"
   ]
  },
  {
   "cell_type": "code",
   "execution_count": 27,
   "metadata": {},
   "outputs": [
    {
     "data": {
      "image/png": "[encoded data removed]",
      "text/plain": [
       "<Figure size 432x288 with 1 Axes>"
      ]
     },
     "metadata": {
      "needs_background": "light"
     },
     "output_type": "display_data"
    },
    {
     "name": "stdout",
     "output_type": "stream",
     "text": [
      "train  accuracy:  0.9899333333333333\n",
      "test  accuracy:  0.9761\n",
      "[[ 970    0    2    2    0    2    2    1    1    0]\n",
      " [   0 1122    3    2    0    1    3    2    2    0]\n",
      " [   7    2  998    6    3    1    3    5    7    0]\n",
      " [   0    0    3  984    0    7    1    8    3    4]\n",
      " [   1    0    4    0  962    1    4    3    1    6]\n",
      " [   3    1    0    4    1  872    6    1    2    2]\n",
      " [   7    1    0    1    2    7  935    1    4    0]\n",
      " [   0    5   11    4    0    1    0  999    4    4]\n",
      " [   5    1    2    2    3    5    1    5  947    3]\n",
      " [   4    3    0    6   10    3    1    8    2  972]]\n"
     ]
    }
   ],
   "source": [
    "##plot result\n",
    "\n",
    "# plot epoch losses\n",
    "def plot_epoch_losses(epoch_losses):\n",
    "    plt.figure()\n",
    "    plt.plot(epoch_losses)\n",
    "    plt.show()\n",
    "plot_epoch_losses(epoch_losses)\n",
    "\n",
    "# accuracy\n",
    "def print_accuracy(label, pred, name):\n",
    "    accuracy = np.mean(label==pred)\n",
    "    print(name, ' accuracy: ', accuracy)\n",
    "print_accuracy(y_train.reshape(-1), np.argmax(train_pred, axis=1), 'train')\n",
    "print_accuracy(y_test.reshape(-1), np.argmax(test_pred, axis=1), 'test')\n",
    "\n",
    "# confusion matrix\n",
    "def print_confusion_matrix(label, pred):\n",
    "    matrix = confusion_matrix(label, pred)\n",
    "    print(matrix)\n",
    "print_confusion_matrix(y_test.reshape(-1), np.argmax(test_pred, axis=1))"
   ]
  },
  {
   "cell_type": "code",
   "execution_count": 28,
   "metadata": {},
   "outputs": [],
   "source": [
    "##build FC layer model (show inner distribution)\n",
    "\n",
    "#build 3-layer fully-connected neural network model\n",
    "#hidden layers' size is [1024, 300]\n",
    "tf.reset_default_graph()\n",
    "\n",
    "#placeholder\n",
    "tf_X = tf.placeholder(tf.float32, (None, np.prod(shape)))\n",
    "tf_Y = tf.placeholder(tf.float32, (None, n_class))\n",
    "\n",
    "#model\n",
    "output1 = tf.layers.dense(tf_X, hidden_nodes[0])\n",
    "hidden1 = activation(output1)\n",
    "output2 = tf.layers.dense(hidden1, hidden_nodes[1])\n",
    "hidden2 = activation(output2)\n",
    "logit = tf.layers.dense(hidden2, n_class)\n",
    "pred = tf.nn.softmax(logit)\n",
    "\n",
    "# loss and optimizer\n",
    "loss = tf.losses.softmax_cross_entropy(tf_Y, logit)\n",
    "optimizer = tf.train.GradientDescentOptimizer(learning_rate).minimize(loss)"
   ]
  },
  {
   "cell_type": "code",
   "execution_count": 29,
   "metadata": {},
   "outputs": [
    {
     "name": "stdout",
     "output_type": "stream",
     "text": [
      "Epoch: 10, \t Loss: 0.05921902880072594\n",
      "Epoch: 20, \t Loss: 0.02240726165473461\n",
      "Epoch: 30, \t Loss: 0.009842796251177788\n",
      "Epoch: 40, \t Loss: 0.005242470186203718\n",
      "Epoch: 50, \t Loss: 0.0033150508534163237\n",
      "Epoch: 60, \t Loss: 0.0023723002523183823\n",
      "Epoch: 70, \t Loss: 0.0018244500970467925\n",
      "Epoch: 80, \t Loss: 0.001470488146878779\n",
      "Epoch: 90, \t Loss: 0.0012159418547526002\n",
      "Epoch: 100, \t Loss: 0.0010376055724918842\n"
     ]
    }
   ],
   "source": [
    "##train & save model\n",
    "\n",
    "with tf.Session() as sess:\n",
    "    # init\n",
    "    sess.run(tf.global_variables_initializer())\n",
    "    \n",
    "    # train\n",
    "    epoch_losses, iter_losses = [], []\n",
    "    total_batch = int( train_n_sample / batch_size )\n",
    "    for epoch in range(training_epochs):\n",
    "        # shuffle\n",
    "        random_idx = np.random.permutation(train_n_sample)\n",
    "        shuffled_X_train = X_train[random_idx]\n",
    "        shuffled_Y_train = Y_train[random_idx]\n",
    "        \n",
    "        for i in range(total_batch):\n",
    "            # get batch\n",
    "            batch_X_train = shuffled_X_train[i*batch_size : (i+1)*batch_size]\n",
    "            batch_Y_train = shuffled_Y_train[i*batch_size : (i+1)*batch_size]\n",
    "            \n",
    "            _, l = sess.run([optimizer, loss], \n",
    "                            feed_dict = {tf_X:batch_X_train, tf_Y:batch_Y_train})\n",
    "            iter_losses.append(l)\n",
    "        epoch_losses.append(np.mean(iter_losses[-total_batch:]))\n",
    "        \n",
    "        if (epoch + 1) % display_step == 0:\n",
    "            print('Epoch: {}, \\t Loss: {}'.format(epoch+1, epoch_losses[-1]))\n",
    "    \n",
    "    # result\n",
    "    train_pred = sess.run(pred, feed_dict={tf_X:X_train})\n",
    "    test_pred = sess.run(pred, feed_dict = {tf_X:X_test})\n",
    "    \n",
    "    saver = tf.train.Saver()\n",
    "    saver.save(sess, 'MNIST/naive_1024-300/model')"
   ]
  },
  {
   "cell_type": "code",
   "execution_count": 30,
   "metadata": {},
   "outputs": [
    {
     "data": {
      "image/png": "[encoded data removed]",
      "text/plain": [
       "<Figure size 432x288 with 1 Axes>"
      ]
     },
     "metadata": {
      "needs_background": "light"
     },
     "output_type": "display_data"
    },
    {
     "name": "stdout",
     "output_type": "stream",
     "text": [
      "train  accuracy:  1.0\n",
      "test  accuracy:  0.9823\n",
      "[[ 974    0    1    1    1    1    0    1    1    0]\n",
      " [   0 1126    2    1    0    1    2    1    2    0]\n",
      " [   4    0 1011    2    2    0    3    5    5    0]\n",
      " [   0    0    3  992    0    4    0    3    2    6]\n",
      " [   0    0    4    0  964    0    3    2    0    9]\n",
      " [   2    0    0    6    1  875    4    0    3    1]\n",
      " [   3    2    1    1    3    4  942    0    2    0]\n",
      " [   1    2    5    4    1    0    0 1007    3    5]\n",
      " [   3    0    3    5    2    3    2    3  949    4]\n",
      " [   1    2    0    5    9    2    0    5    2  983]]\n"
     ]
    }
   ],
   "source": [
    "##plot result\n",
    "\n",
    "#plot epoch losses\n",
    "plot_epoch_losses(epoch_losses)\n",
    "#accuracy\n",
    "print_accuracy(y_train.reshape(-1), np.argmax(train_pred, axis=1), 'train')\n",
    "print_accuracy(y_test.reshape(-1), np.argmax(test_pred, axis=1), 'test')\n",
    "#confusion matrix\n",
    "print_confusion_matrix(y_test.reshape(-1), np.argmax(test_pred, axis=1))"
   ]
  },
  {
   "cell_type": "code",
   "execution_count": 31,
   "metadata": {},
   "outputs": [
    {
     "name": "stdout",
     "output_type": "stream",
     "text": [
      "(10000, 784) (10000, 1024) (10000, 1024) (10000, 300) (10000, 300)\n"
     ]
    },
    {
     "data": {
      "image/png": "[encoded data removed]",
      "text/plain": [
       "<Figure size 720x720 with 9 Axes>"
      ]
     },
     "metadata": {
      "needs_background": "light"
     },
     "output_type": "display_data"
    }
   ],
   "source": [
    "##show inner distribution\n",
    "\n",
    "with tf.Session() as sess:\n",
    "    saver = tf.train.import_meta_graph('MNIST/naive_1024-300/model.meta')\n",
    "    saver.restore(sess, 'MNIST/naive_1024-300/model')\n",
    "\n",
    "    [x, o1, h1, o2, h2] = sess.run(\n",
    "        [tf_X, output1, hidden1, output2, hidden2], \n",
    "        feed_dict={tf_X: X_test})\n",
    "    print(x.shape, o1.shape, h1.shape, o2.shape, h2.shape)\n",
    "\n",
    "def plot_inner_dist(x, o1, h1, o2, h2):\n",
    "    fig, axs = plt.subplots(3, 3, figsize=(10, 10), sharex='col')\n",
    "    axs[0, 0].hist(x.reshape(-1))\n",
    "    axs[1, 0].hist(o1.reshape(-1))\n",
    "    axs[1, 1].hist(h1.reshape(-1))\n",
    "    axs[1, 2].scatter(o1[0], h1[0])\n",
    "    axs[2, 0].hist(o2.reshape(-1))\n",
    "    axs[2, 1].hist(h2.reshape(-1))\n",
    "    axs[2, 2].scatter(o2[0], h2[0])\n",
    "    plt.show()\n",
    "plot_inner_dist(x, o1, h1, o2, h2)"
   ]
  },
  {
   "cell_type": "code",
   "execution_count": 33,
   "metadata": {},
   "outputs": [],
   "source": [
    "##add batch normalize layers\n",
    "\n",
    "#build 3-layer fully connected neural neural network model\n",
    "#hidden layers; size is [1024, 300]\n",
    "tf.reset_default_graph()\n",
    "\n",
    "#placeholder\n",
    "tf_X = tf.placeholder(tf.float32, [None, np.prod(shape)])\n",
    "tf_Y = tf.placeholder(tf.float32, [None, n_class])\n",
    "\n",
    "#model\n",
    "output1 = tf.layers.dense(tf_X, hidden_nodes[0])\n",
    "norm1 = tf.contrib.layers.batch_norm(output1)\n",
    "hidden1 = activation(norm1)\n",
    "output2 = tf.layers.dense(hidden1, hidden_nodes[1])\n",
    "norm2 = tf.contrib.layers.batch_norm(output2)\n",
    "hidden2 = activation(norm2)\n",
    "logit = tf.layers.dense(hidden2, n_class)\n",
    "pred = tf.nn.softmax(logit)\n",
    "\n",
    "#loss and optimizer\n",
    "loss = tf.losses.softmax_cross_entropy(tf_Y, logit)\n",
    "optimizer = tf.train.GradientDescentOptimizer(learning_rate).minimize(loss)"
   ]
  },
  {
   "cell_type": "code",
   "execution_count": 35,
   "metadata": {},
   "outputs": [],
   "source": [
    "##train/test phase in batch_norm - only test\n",
    "\n",
    "#build 3-layer fully-connected neural network model\n",
    "#hidden layers' size is [1024, 300]\n",
    "tf.reset_default_graph()\n",
    "\n",
    "#placeholder\n",
    "tf_X = tf.placeholder(tf.float32, [None, np.prod(shape)])\n",
    "tf_Y = tf.placeholder(tf.float32, [None, n_class])\n",
    "\n",
    "#model\n",
    "output1 = tf.layers.dense(tf_X, hidden_nodes[0])\n",
    "norm1 = tf.contrib.layers.batch_norm(output1, is_training=False)\n",
    "hidden1 = activation(norm1)\n",
    "output2 = tf.layers.dense(hidden1, hidden_nodes[1])\n",
    "norm2 = tf.contrib.layers.batch_norm(output2, is_training=False)\n",
    "hidden2 = activation(norm2)\n",
    "logit = tf.layers.dense(hidden2, n_class)\n",
    "pred = tf.nn.softmax(logit)\n",
    "\n",
    "#loss and optimizer\n",
    "loss = tf.losses.softmax_cross_entropy(tf_Y, logit)\n",
    "optimizer = tf.train.GradientDescentOptimizer(learning_rate).minimize(loss)"
   ]
  },
  {
   "cell_type": "code",
   "execution_count": 36,
   "metadata": {},
   "outputs": [
    {
     "name": "stdout",
     "output_type": "stream",
     "text": [
      "Epoch: 10, \t Loss: 0.058486733585596085\n",
      "Epoch: 20, \t Loss: 0.02153801918029785\n",
      "Epoch: 30, \t Loss: 0.009670386090874672\n",
      "Epoch: 40, \t Loss: 0.005258932709693909\n",
      "Epoch: 50, \t Loss: 0.003362413262948394\n",
      "Epoch: 60, \t Loss: 0.0024031945504248142\n",
      "Epoch: 70, \t Loss: 0.0018473784439265728\n",
      "Epoch: 80, \t Loss: 0.0014868311118334532\n",
      "Epoch: 90, \t Loss: 0.0012351711047813296\n",
      "Epoch: 100, \t Loss: 0.0010546259582042694\n"
     ]
    }
   ],
   "source": [
    "##train model\n",
    "\n",
    "with tf.Session() as sess:\n",
    "    # init\n",
    "    sess.run(tf.global_variables_initializer())\n",
    "    \n",
    "    # train\n",
    "    epoch_losses, iter_losses = [], []\n",
    "    total_batch = int( train_n_sample / batch_size )\n",
    "    for epoch in range(training_epochs):\n",
    "        # shuffle\n",
    "        random_idx = np.random.permutation(train_n_sample)\n",
    "        shuffled_X_train = X_train[random_idx]\n",
    "        shuffled_Y_train = Y_train[random_idx]\n",
    "        \n",
    "        for i in range(total_batch):\n",
    "            # get batch\n",
    "            batch_X_train = shuffled_X_train[i*batch_size : (i+1)*batch_size]\n",
    "            batch_Y_train = shuffled_Y_train[i*batch_size : (i+1)*batch_size]\n",
    "            \n",
    "            _, l = sess.run([optimizer, loss], \n",
    "                            feed_dict = {tf_X:batch_X_train, tf_Y:batch_Y_train})\n",
    "            iter_losses.append(l)\n",
    "        epoch_losses.append(np.mean(iter_losses[-total_batch:]))\n",
    "        \n",
    "        if (epoch + 1) % display_step == 0:\n",
    "            print('Epoch: {}, \\t Loss: {}'.format(epoch+1, epoch_losses[-1]))\n",
    "    \n",
    "    # result\n",
    "    train_pred = sess.run(pred, feed_dict={tf_X:X_train})\n",
    "    test_pred = sess.run(pred, feed_dict = {tf_X:X_test})\n",
    "    \n",
    "    saver = tf.train.Saver()\n",
    "    saver.save(sess, 'MNIST/batch_norm_off_1024-300/model')"
   ]
  },
  {
   "cell_type": "code",
   "execution_count": 39,
   "metadata": {},
   "outputs": [
    {
     "data": {
      "image/png": "[encoded data removed]",
      "text/plain": [
       "<Figure size 432x288 with 1 Axes>"
      ]
     },
     "metadata": {
      "needs_background": "light"
     },
     "output_type": "display_data"
    },
    {
     "name": "stdout",
     "output_type": "stream",
     "text": [
      "train  accuracy:  1.0\n",
      "test  accuracy:  0.9815\n",
      "[[ 972    0    2    0    1    1    1    1    1    1]\n",
      " [   0 1125    1    2    0    1    2    1    3    0]\n",
      " [   6    1 1009    2    2    0    3    3    5    1]\n",
      " [   0    0    4  990    0    6    0    2    4    4]\n",
      " [   1    0    1    1  963    0    4    2    1    9]\n",
      " [   3    0    0    7    1  869    4    1    3    4]\n",
      " [   4    2    1    1    2    5  942    0    1    0]\n",
      " [   2    2    9    1    1    0    0 1006    2    5]\n",
      " [   3    0    3    3    3    4    0    3  952    3]\n",
      " [   1    2    0    3   10    1    1    3    1  987]]\n"
     ]
    }
   ],
   "source": [
    "##plot result\n",
    "\n",
    "#plot epoch losses\n",
    "plot_epoch_losses(epoch_losses)\n",
    "#accuracy\n",
    "print_accuracy(y_train.reshape(-1), np.argmax(train_pred, axis=1),'train')\n",
    "print_accuracy(y_test.reshape(-1), np.argmax(test_pred, axis=1), 'test')\n",
    "#confusion matrix\n",
    "print_confusion_matrix(y_test.reshape(-1), np.argmax(test_pred, axis=1))"
   ]
  },
  {
   "cell_type": "code",
   "execution_count": 40,
   "metadata": {},
   "outputs": [
    {
     "name": "stdout",
     "output_type": "stream",
     "text": [
      "(10000, 784) (10000, 1024) (10000, 1024) (10000, 300) (10000, 300)\n"
     ]
    },
    {
     "data": {
      "image/png": "[encoded data removed]",
      "text/plain": [
       "<Figure size 720x720 with 9 Axes>"
      ]
     },
     "metadata": {
      "needs_background": "light"
     },
     "output_type": "display_data"
    }
   ],
   "source": [
    "##show inner distribution\n",
    "\n",
    "with tf.Session() as sess:\n",
    "    saver = tf.train.import_meta_graph('MNIST/batch_norm_off_1024-300/model.meta')\n",
    "    saver.restore(sess, 'MNIST/batch_norm_off_1024-300/model')\n",
    "\n",
    "    [x, o1, h1, o2, h2] = sess.run(\n",
    "        [tf_X, output1, hidden1, output2, hidden2], \n",
    "        feed_dict={tf_X: X_test})\n",
    "    print(x.shape, o1.shape, h1.shape, o2.shape, h2.shape)\n",
    "\n",
    "plot_inner_dist(x, o1, h1, o2, h2)"
   ]
  },
  {
   "cell_type": "code",
   "execution_count": 41,
   "metadata": {},
   "outputs": [],
   "source": [
    "##train/test phase in batch_norm - train&test\n",
    "\n",
    "# build 3-layer fully-connected neural network model\n",
    "# hidden layers' size is [1024, 300]\n",
    "tf.reset_default_graph()\n",
    "\n",
    "# placeholder\n",
    "tf_X = tf.placeholder(tf.float32, [None, np.prod(shape)])\n",
    "tf_Y = tf.placeholder(tf.float32, [None, n_class])\n",
    "is_train = tf.placeholder(tf.bool, [])\n",
    "\n",
    "# model\n",
    "output1 = tf.layers.dense(tf_X, hidden_nodes[0])\n",
    "norm1 = tf.contrib.layers.batch_norm(output1, is_training=is_train)\n",
    "hidden1 = activation(norm1)\n",
    "output2 = tf.layers.dense(hidden1, hidden_nodes[1])\n",
    "norm2 = tf.contrib.layers.batch_norm(output2, is_training=is_train)\n",
    "hidden2 = activation(norm2)\n",
    "logit = tf.layers.dense(hidden2, n_class)\n",
    "pred = tf.nn.softmax(logit)\n",
    "\n",
    "# loss and optimizer\n",
    "loss = tf.losses.softmax_cross_entropy(tf_Y, logit)\n",
    "update_ops = tf.get_collection(tf.GraphKeys.UPDATE_OPS)\n",
    "with tf.control_dependencies(update_ops):\n",
    "    optimizer = tf.train.GradientDescentOptimizer(learning_rate).minimize(loss)"
   ]
  },
  {
   "cell_type": "code",
   "execution_count": 42,
   "metadata": {},
   "outputs": [
    {
     "name": "stdout",
     "output_type": "stream",
     "text": [
      "Epoch: 10, \t Loss: 0.014798385091125965\n",
      "Epoch: 20, \t Loss: 0.001701219705864787\n",
      "Epoch: 30, \t Loss: 0.0006969162495806813\n",
      "Epoch: 40, \t Loss: 0.0005432016914710402\n",
      "Epoch: 50, \t Loss: 0.0005825536209158599\n",
      "Epoch: 60, \t Loss: 0.00027505800244398415\n",
      "Epoch: 70, \t Loss: 0.00021557544823735952\n",
      "Epoch: 80, \t Loss: 0.00016010337276384234\n",
      "Epoch: 90, \t Loss: 0.00022438094310928136\n",
      "Epoch: 100, \t Loss: 0.0003413766098674387\n"
     ]
    }
   ],
   "source": [
    "##train & save model\n",
    "\n",
    "with tf.Session() as sess:\n",
    "    # init\n",
    "    sess.run(tf.global_variables_initializer())\n",
    "    \n",
    "    # train\n",
    "    epoch_losses, iter_losses = [], []\n",
    "    total_batch = int( train_n_sample / batch_size )\n",
    "    for epoch in range(training_epochs):\n",
    "        # shuffle\n",
    "        random_idx = np.random.permutation(train_n_sample)\n",
    "        shuffled_X_train = X_train[random_idx]\n",
    "        shuffled_Y_train = Y_train[random_idx]\n",
    "        \n",
    "        for i in range(total_batch):\n",
    "            # get batch\n",
    "            batch_X_train = shuffled_X_train[i*batch_size : (i+1)*batch_size]\n",
    "            batch_Y_train = shuffled_Y_train[i*batch_size : (i+1)*batch_size]\n",
    "            \n",
    "            _, l = sess.run([optimizer, loss], \n",
    "                            feed_dict = {tf_X:batch_X_train, tf_Y:batch_Y_train, is_train:True})\n",
    "            iter_losses.append(l)\n",
    "        epoch_losses.append(np.mean(iter_losses[-total_batch:]))\n",
    "        \n",
    "        if (epoch + 1) % display_step == 0:\n",
    "            print('Epoch: {}, \\t Loss: {}'.format(epoch+1, epoch_losses[-1]))\n",
    "    \n",
    "    # result\n",
    "    train_pred = sess.run(pred, feed_dict={tf_X:X_train, is_train:False})\n",
    "    test_pred = sess.run(pred, feed_dict = {tf_X:X_test, is_train:False})\n",
    "    \n",
    "    saver = tf.train.Saver()\n",
    "    saver.save(sess, 'MNIST/batch_norm_1024-300/model')"
   ]
  },
  {
   "cell_type": "code",
   "execution_count": 43,
   "metadata": {},
   "outputs": [
    {
     "data": {
      "image/png": "[encoded data removed]",
      "text/plain": [
       "<Figure size 432x288 with 1 Axes>"
      ]
     },
     "metadata": {
      "needs_background": "light"
     },
     "output_type": "display_data"
    },
    {
     "name": "stdout",
     "output_type": "stream",
     "text": [
      "train  accuracy:  1.0\n",
      "test  accuracy:  0.9824\n",
      "[[ 973    1    1    0    1    1    1    1    1    0]\n",
      " [   0 1127    3    0    0    0    2    1    2    0]\n",
      " [   6    1 1008    1    3    0    3    4    5    1]\n",
      " [   0    0    3  995    0    3    0    4    3    2]\n",
      " [   1    0    0    1  968    0    4    0    1    7]\n",
      " [   1    0    0    8    0  871    5    2    3    2]\n",
      " [   3    2    1    0    3    3  944    0    2    0]\n",
      " [   0    5    7    2    1    0    0 1008    0    5]\n",
      " [   2    0    3    3    3    2    0    4  955    2]\n",
      " [   3    2    0    8    9    3    0    8    1  975]]\n"
     ]
    }
   ],
   "source": [
    "##plot result\n",
    "\n",
    "#plot epoch losses\n",
    "plot_epoch_losses(epoch_losses)\n",
    "#accuracy\n",
    "print_accuracy(y_train.reshape(-1), np.argmax(train_pred, axis=1), 'train')\n",
    "print_accuracy(y_test.reshape(-1), np.argmax(test_pred, axis=1), 'test')\n",
    "#confusion matrix\n",
    "print_confusion_matrix(y_test.reshape(-1), np.argmax(test_pred, axis=1))"
   ]
  },
  {
   "cell_type": "code",
   "execution_count": 44,
   "metadata": {},
   "outputs": [
    {
     "name": "stdout",
     "output_type": "stream",
     "text": [
      "(10000, 784) (10000, 1024) (10000, 1024) (10000, 300) (10000, 300)\n"
     ]
    },
    {
     "data": {
      "image/png": "[encoded data removed]",
      "text/plain": [
       "<Figure size 720x720 with 9 Axes>"
      ]
     },
     "metadata": {
      "needs_background": "light"
     },
     "output_type": "display_data"
    }
   ],
   "source": [
    "##show inner distribution\n",
    "\n",
    "with tf.Session() as sess:\n",
    "    saver = tf.train.import_meta_graph('MNIST/batch_norm_1024-300/model.meta')\n",
    "    saver.restore(sess, 'MNIST/batch_norm_1024-300/model')\n",
    "    \n",
    "    [x, o1, h1, o2, h2] = sess.run(\n",
    "        [tf_X, output1, hidden1, output2, hidden2],\n",
    "        feed_dict={tf_X: X_test, is_train:False})\n",
    "    print(x.shape, o1.shape, h1.shape, o2.shape, h2.shape)\n",
    "    \n",
    "plot_inner_dist(x, o1, h1, o2, h2)"
   ]
  },
  {
   "cell_type": "code",
   "execution_count": 45,
   "metadata": {},
   "outputs": [],
   "source": [
    "##add dropout layers\n",
    "\n",
    "#hyper parameter setting\n",
    "training_epochs = 200\n",
    "learning_rate = 1e-1\n",
    "display_step = 10\n",
    "\n",
    "batch_size = 100\n",
    "\n",
    "hidden_nodes = [1024, 300]\n",
    "activation = tf.nn.tanh\n",
    "dropout_rate = .2"
   ]
  },
  {
   "cell_type": "code",
   "execution_count": 46,
   "metadata": {},
   "outputs": [],
   "source": [
    "# build 3-layer fully-connected neural network model\n",
    "# hidden layers' size is [1024, 300]\n",
    "tf.reset_default_graph()\n",
    "\n",
    "# placeholder\n",
    "tf_X = tf.placeholder(tf.float32, [None, np.prod(shape)])\n",
    "tf_Y = tf.placeholder(tf.float32, [None, n_class])\n",
    "is_train = tf.placeholder(tf.bool, [])\n",
    "\n",
    "# model\n",
    "output1 = tf.layers.dense(tf_X, hidden_nodes[0])\n",
    "dropout1 = tf.contrib.layers.dropout(output1, keep_prob=1.-dropout_rate, is_training=is_train)\n",
    "hidden1 = activation(dropout1)\n",
    "output2 = tf.layers.dense(hidden1, hidden_nodes[1])\n",
    "dropout2 = tf.contrib.layers.dropout(output2, keep_prob=1.-dropout_rate, is_training=is_train)\n",
    "hidden2 = activation(dropout2)\n",
    "logit = tf.layers.dense(hidden2, n_class)\n",
    "pred = tf.nn.softmax(logit)\n",
    "\n",
    "# loss and optimizer\n",
    "loss = tf.losses.softmax_cross_entropy(tf_Y, logit)\n",
    "optimizer = tf.train.GradientDescentOptimizer(learning_rate).minimize(loss)"
   ]
  },
  {
   "cell_type": "code",
   "execution_count": 47,
   "metadata": {},
   "outputs": [
    {
     "name": "stdout",
     "output_type": "stream",
     "text": [
      "Epoch: 10, \t Loss: 0.09031850099563599\n",
      "Epoch: 20, \t Loss: 0.05291939154267311\n",
      "Epoch: 30, \t Loss: 0.03542057052254677\n",
      "Epoch: 40, \t Loss: 0.02542729303240776\n",
      "Epoch: 50, \t Loss: 0.0200672410428524\n",
      "Epoch: 60, \t Loss: 0.015241335146129131\n",
      "Epoch: 70, \t Loss: 0.0128135085105896\n",
      "Epoch: 80, \t Loss: 0.010257720947265625\n",
      "Epoch: 90, \t Loss: 0.009977644309401512\n",
      "Epoch: 100, \t Loss: 0.007796685677021742\n",
      "Epoch: 110, \t Loss: 0.007196377031505108\n",
      "Epoch: 120, \t Loss: 0.0064133149571716785\n",
      "Epoch: 130, \t Loss: 0.005253570154309273\n",
      "Epoch: 140, \t Loss: 0.005449199583381414\n",
      "Epoch: 150, \t Loss: 0.004422921221703291\n",
      "Epoch: 160, \t Loss: 0.00450702290982008\n",
      "Epoch: 170, \t Loss: 0.004250641446560621\n",
      "Epoch: 180, \t Loss: 0.003058026311919093\n",
      "Epoch: 190, \t Loss: 0.0035438125487416983\n",
      "Epoch: 200, \t Loss: 0.00306367757730186\n"
     ]
    }
   ],
   "source": [
    "##train&save model\n",
    "\n",
    "with tf.Session() as sess:\n",
    "    # init\n",
    "    sess.run(tf.global_variables_initializer())\n",
    "    \n",
    "    # train\n",
    "    epoch_losses, iter_losses = [], []\n",
    "    total_batch = int( train_n_sample / batch_size )\n",
    "    for epoch in range(training_epochs):\n",
    "        # shuffle\n",
    "        random_idx = np.random.permutation(train_n_sample)\n",
    "        shuffled_X_train = X_train[random_idx]\n",
    "        shuffled_Y_train = Y_train[random_idx]\n",
    "        \n",
    "        for i in range(total_batch):\n",
    "            # get batch\n",
    "            batch_X_train = shuffled_X_train[i*batch_size : (i+1)*batch_size]\n",
    "            batch_Y_train = shuffled_Y_train[i*batch_size : (i+1)*batch_size]\n",
    "            \n",
    "            _, l = sess.run([optimizer, loss], \n",
    "                            feed_dict = {tf_X:batch_X_train, tf_Y:batch_Y_train, is_train:True})\n",
    "            iter_losses.append(l)\n",
    "        epoch_losses.append(np.mean(iter_losses[-total_batch:]))\n",
    "        \n",
    "        if (epoch + 1) % display_step == 0:\n",
    "            print('Epoch: {}, \\t Loss: {}'.format(epoch+1, epoch_losses[-1]))\n",
    "    \n",
    "    # result\n",
    "    train_pred = sess.run(pred, feed_dict={tf_X:X_train, is_train:False})\n",
    "    test_pred = sess.run(pred, feed_dict = {tf_X:X_test, is_train:False})\n",
    "    \n",
    "    saver = tf.train.Saver()\n",
    "    saver.save(sess, 'MNIST/dropout_1024-300/model')"
   ]
  },
  {
   "cell_type": "code",
   "execution_count": 48,
   "metadata": {},
   "outputs": [
    {
     "data": {
      "image/png": "[encoded data removed]",
      "text/plain": [
       "<Figure size 432x288 with 1 Axes>"
      ]
     },
     "metadata": {
      "needs_background": "light"
     },
     "output_type": "display_data"
    },
    {
     "name": "stdout",
     "output_type": "stream",
     "text": [
      "train  accuracy:  0.99995\n",
      "test  accuracy:  0.9832\n",
      "[[ 975    0    1    0    1    0    0    1    2    0]\n",
      " [   0 1123    2    2    0    1    2    1    4    0]\n",
      " [   6    1 1014    1    1    0    2    3    4    0]\n",
      " [   0    0    4  998    0    0    0    2    3    3]\n",
      " [   0    0    2    1  966    0    4    2    2    5]\n",
      " [   3    0    0   13    1  863    4    1    6    1]\n",
      " [   3    2    1    1    2    3  945    0    1    0]\n",
      " [   1    1    8    1    0    0    0 1011    4    2]\n",
      " [   2    0    1    2    1    0    0    2  964    2]\n",
      " [   3    2    0    7    8    2    0    5    9  973]]\n"
     ]
    }
   ],
   "source": [
    "##plot result\n",
    "\n",
    "# plot epoch losses\n",
    "plot_epoch_losses(epoch_losses)\n",
    "# accuracy\n",
    "print_accuracy(y_train.reshape(-1), np.argmax(train_pred, axis=1), 'train')\n",
    "print_accuracy(y_test.reshape(-1), np.argmax(test_pred, axis=1), 'test')\n",
    "# confusion matrix\n",
    "print_confusion_matrix(y_test.reshape(-1), np.argmax(test_pred, axis=1))"
   ]
  },
  {
   "cell_type": "code",
   "execution_count": 49,
   "metadata": {},
   "outputs": [],
   "source": [
    "##add batch norm, dropout layers\n",
    "\n",
    "#hyper parameter setting\n",
    "training_epochs = 150\n",
    "learning_rate = 1e-1\n",
    "display_step = 10\n",
    "\n",
    "batch_size = 100\n",
    "\n",
    "hidden_nodes = [1024, 300]\n",
    "activation = tf.nn.tanh\n",
    "dropout_rate = .2"
   ]
  },
  {
   "cell_type": "code",
   "execution_count": 50,
   "metadata": {},
   "outputs": [],
   "source": [
    "# build 3-layer fully-connected neural network model\n",
    "# hidden layers' size is [1024, 300]\n",
    "tf.reset_default_graph()\n",
    "\n",
    "# placeholder\n",
    "tf_X = tf.placeholder(tf.float32, [None, np.prod(shape)])\n",
    "tf_Y = tf.placeholder(tf.float32, [None, n_class])\n",
    "is_train = tf.placeholder(tf.bool, [])\n",
    "\n",
    "# model\n",
    "output1 = tf.layers.dense(tf_X, hidden_nodes[0])\n",
    "norm1 = tf.contrib.layers.batch_norm(output1)\n",
    "dropout1 = tf.contrib.layers.dropout(norm1, keep_prob=1.-dropout_rate, is_training=is_train)\n",
    "hidden1 = activation(dropout1)\n",
    "output2 = tf.layers.dense(hidden1, hidden_nodes[1])\n",
    "norm2 = tf.contrib.layers.batch_norm(output2)\n",
    "dropout2 = tf.contrib.layers.dropout(norm2, keep_prob=1.-dropout_rate, is_training=is_train)\n",
    "hidden2 = activation(dropout2)\n",
    "logit = tf.layers.dense(hidden2, n_class)\n",
    "pred = tf.nn.softmax(logit)\n",
    "\n",
    "# loss and optimizer\n",
    "loss = tf.losses.softmax_cross_entropy(tf_Y, logit)\n",
    "update_ops = tf.get_collection(tf.GraphKeys.UPDATE_OPS)\n",
    "with tf.control_dependencies(update_ops):\n",
    "    optimizer = tf.train.GradientDescentOptimizer(learning_rate).minimize(loss)"
   ]
  },
  {
   "cell_type": "code",
   "execution_count": 51,
   "metadata": {},
   "outputs": [
    {
     "name": "stdout",
     "output_type": "stream",
     "text": [
      "Epoch: 10, \t Loss: 0.05052313581109047\n",
      "Epoch: 20, \t Loss: 0.024190029129385948\n",
      "Epoch: 30, \t Loss: 0.01719568483531475\n",
      "Epoch: 40, \t Loss: 0.012526988983154297\n",
      "Epoch: 50, \t Loss: 0.008954880759119987\n",
      "Epoch: 60, \t Loss: 0.00912295188754797\n",
      "Epoch: 70, \t Loss: 0.00672330753877759\n",
      "Epoch: 80, \t Loss: 0.005125847179442644\n",
      "Epoch: 90, \t Loss: 0.005066067446023226\n",
      "Epoch: 100, \t Loss: 0.003986943978816271\n",
      "Epoch: 110, \t Loss: 0.005309270229190588\n",
      "Epoch: 120, \t Loss: 0.004563540685921907\n",
      "Epoch: 130, \t Loss: 0.004332148469984531\n",
      "Epoch: 140, \t Loss: 0.003349186619743705\n",
      "Epoch: 150, \t Loss: 0.0027993186376988888\n"
     ]
    }
   ],
   "source": [
    "##train&save model\n",
    "\n",
    "with tf.Session() as sess:\n",
    "    # init\n",
    "    sess.run(tf.global_variables_initializer())\n",
    "    \n",
    "    # train\n",
    "    epoch_losses, iter_losses = [], []\n",
    "    total_batch = int( train_n_sample / batch_size )\n",
    "    for epoch in range(training_epochs):\n",
    "        # shuffle\n",
    "        random_idx = np.random.permutation(train_n_sample)\n",
    "        shuffled_X_train = X_train[random_idx]\n",
    "        shuffled_Y_train = Y_train[random_idx]\n",
    "        \n",
    "        for i in range(total_batch):\n",
    "            # get batch\n",
    "            batch_X_train = shuffled_X_train[i*batch_size : (i+1)*batch_size]\n",
    "            batch_Y_train = shuffled_Y_train[i*batch_size : (i+1)*batch_size]\n",
    "            \n",
    "            _, l = sess.run([optimizer, loss], \n",
    "                            feed_dict = {tf_X:batch_X_train, tf_Y:batch_Y_train, is_train:True})\n",
    "            iter_losses.append(l)\n",
    "        epoch_losses.append(np.mean(iter_losses[-total_batch:]))\n",
    "        \n",
    "        if (epoch + 1) % display_step == 0:\n",
    "            print('Epoch: {}, \\t Loss: {}'.format(epoch+1, epoch_losses[-1]))\n",
    "    \n",
    "    # result\n",
    "    train_pred = sess.run(pred, feed_dict={tf_X:X_train, is_train:False})\n",
    "    test_pred = sess.run(pred, feed_dict = {tf_X:X_test, is_train:False})\n",
    "    \n",
    "    saver = tf.train.Saver()\n",
    "    saver.save(sess, 'MNIST/batch_norm-dropout_1024-300/model')"
   ]
  },
  {
   "cell_type": "code",
   "execution_count": 52,
   "metadata": {},
   "outputs": [
    {
     "data": {
      "image/png": "[encoded data removed]",
      "text/plain": [
       "<Figure size 432x288 with 1 Axes>"
      ]
     },
     "metadata": {
      "needs_background": "light"
     },
     "output_type": "display_data"
    },
    {
     "name": "stdout",
     "output_type": "stream",
     "text": [
      "train  accuracy:  0.99995\n",
      "test  accuracy:  0.9814\n",
      "[[ 975    1    1    0    0    1    0    1    1    0]\n",
      " [   0 1128    3    0    0    1    2    1    0    0]\n",
      " [   8    1 1007    1    3    0    1    6    4    1]\n",
      " [   0    0    4  992    0    5    0    6    2    1]\n",
      " [   1    0    0    1  969    0    4    0    1    6]\n",
      " [   3    0    0    7    1  871    6    1    2    1]\n",
      " [   5    2    1    0    2    3  944    0    1    0]\n",
      " [   0    9    6    0    1    1    0 1002    2    7]\n",
      " [   5    1    5    1    4    2    2    2  947    5]\n",
      " [   3    4    0    6   11    0    0    4    2  979]]\n"
     ]
    }
   ],
   "source": [
    "##plot result\n",
    "\n",
    "#plot epoch losses\n",
    "plot_epoch_losses(epoch_losses)\n",
    "#accuracy\n",
    "print_accuracy(y_train.reshape(-1), np.argmax(train_pred, axis=1),'train')\n",
    "print_accuracy(y_test.reshape(-1), np.argmax(test_pred, axis=1), 'test')\n",
    "#confusion matrix\n",
    "print_confusion_matrix(y_test.reshape(-1), np.argmax(test_pred, axis=1))"
   ]
  },
  {
   "cell_type": "code",
   "execution_count": null,
   "metadata": {},
   "outputs": [],
   "source": []
  }
 ],
 "metadata": {
  "kernelspec": {
   "display_name": "Tensorflow",
   "language": "python",
   "name": "tensorflow"
  },
  "language_info": {
   "codemirror_mode": {
    "name": "ipython",
    "version": 3
   },
   "file_extension": ".py",
   "mimetype": "text/x-python",
   "name": "python",
   "nbconvert_exporter": "python",
   "pygments_lexer": "ipython3",
   "version": "3.7.4"
  }
 },
 "nbformat": 4,
 "nbformat_minor": 2
}
