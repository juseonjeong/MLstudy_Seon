{
 "cells": [
  {
   "cell_type": "markdown",
   "metadata": {},
   "source": [
    "### Logistic Regression (MNIST)\n",
    "\n",
    "1. library, data, preprocessing\n",
    "2. solve logistic model with tensorflow\n",
    "3. show the result with confusion matrix"
   ]
  },
  {
   "cell_type": "code",
   "execution_count": 1,
   "metadata": {},
   "outputs": [],
   "source": [
    "import warnings\n",
    "warnings.filterwarnings('ignore')\n"
   ]
  },
  {
   "cell_type": "code",
   "execution_count": 2,
   "metadata": {},
   "outputs": [],
   "source": [
    "import tensorflow as tf\n",
    "import numpy as np\n",
    "from matplotlib import pyplot as plt\n",
    "\n",
    "from tensorflow.keras.datasets import mnist"
   ]
  },
  {
   "cell_type": "code",
   "execution_count": 3,
   "metadata": {},
   "outputs": [
    {
     "name": "stdout",
     "output_type": "stream",
     "text": [
      "type(data):  <class 'tuple'>\n",
      "len(data):  2\n"
     ]
    }
   ],
   "source": [
    "data = mnist.load_data()\n",
    "\n",
    "print('type(data): ', type(data))\n",
    "print('len(data): ', len(data))"
   ]
  },
  {
   "cell_type": "code",
   "execution_count": 4,
   "metadata": {},
   "outputs": [
    {
     "name": "stdout",
     "output_type": "stream",
     "text": [
      "len(train_data): 2\n",
      "len(test_data): 2\n"
     ]
    }
   ],
   "source": [
    "#traubm test split\n",
    "train_data, test_data = data\n",
    "print('len(train_data):', len(train_data))\n",
    "print('len(test_data):', len(test_data))"
   ]
  },
  {
   "cell_type": "code",
   "execution_count": 5,
   "metadata": {},
   "outputs": [
    {
     "name": "stdout",
     "output_type": "stream",
     "text": [
      "x_train.shape, y_train.shape\n",
      "(60000, 28, 28) (60000,)\n",
      "x_test.shape, y_test.shape\n",
      "(10000, 28, 28) (10000,)\n"
     ]
    }
   ],
   "source": [
    "#train data X,y split\n",
    "x_train, y_train = train_data\n",
    "print('x_train.shape, y_train.shape')\n",
    "print(x_train.shape, y_train.shape)\n",
    "\n",
    "#test data X,y split\n",
    "x_test, y_test = test_data\n",
    "print('x_test.shape, y_test.shape')\n",
    "print(x_test.shape, y_test.shape)"
   ]
  },
  {
   "cell_type": "code",
   "execution_count": 6,
   "metadata": {},
   "outputs": [
    {
     "data": {
      "image/png": "[encoded data removed]",
      "text/plain": [
       "<Figure size 432x288 with 1 Axes>"
      ]
     },
     "metadata": {
      "needs_background": "light"
     },
     "output_type": "display_data"
    },
    {
     "name": "stdout",
     "output_type": "stream",
     "text": [
      "y_train: [5 0 4 ... 5 6 8]\n",
      "x_train[0]: [[  0   0   0   0   0   0   0   0   0   0   0   0   0   0   0   0   0   0\n",
      "    0   0   0   0   0   0   0   0   0   0]\n",
      " [  0   0   0   0   0   0   0   0   0   0   0   0   0   0   0   0   0   0\n",
      "    0   0   0   0   0   0   0   0   0   0]\n",
      " [  0   0   0   0   0   0   0   0   0   0   0   0   0   0   0   0   0   0\n",
      "    0   0   0   0   0   0   0   0   0   0]\n",
      " [  0   0   0   0   0   0   0   0   0   0   0   0   0   0   0   0   0   0\n",
      "    0   0   0   0   0   0   0   0   0   0]\n",
      " [  0   0   0   0   0   0   0   0   0   0   0   0   0   0   0   0   0   0\n",
      "    0   0   0   0   0   0   0   0   0   0]\n",
      " [  0   0   0   0   0   0   0   0   0   0   0   0   3  18  18  18 126 136\n",
      "  175  26 166 255 247 127   0   0   0   0]\n",
      " [  0   0   0   0   0   0   0   0  30  36  94 154 170 253 253 253 253 253\n",
      "  225 172 253 242 195  64   0   0   0   0]\n",
      " [  0   0   0   0   0   0   0  49 238 253 253 253 253 253 253 253 253 251\n",
      "   93  82  82  56  39   0   0   0   0   0]\n",
      " [  0   0   0   0   0   0   0  18 219 253 253 253 253 253 198 182 247 241\n",
      "    0   0   0   0   0   0   0   0   0   0]\n",
      " [  0   0   0   0   0   0   0   0  80 156 107 253 253 205  11   0  43 154\n",
      "    0   0   0   0   0   0   0   0   0   0]\n",
      " [  0   0   0   0   0   0   0   0   0  14   1 154 253  90   0   0   0   0\n",
      "    0   0   0   0   0   0   0   0   0   0]\n",
      " [  0   0   0   0   0   0   0   0   0   0   0 139 253 190   2   0   0   0\n",
      "    0   0   0   0   0   0   0   0   0   0]\n",
      " [  0   0   0   0   0   0   0   0   0   0   0  11 190 253  70   0   0   0\n",
      "    0   0   0   0   0   0   0   0   0   0]\n",
      " [  0   0   0   0   0   0   0   0   0   0   0   0  35 241 225 160 108   1\n",
      "    0   0   0   0   0   0   0   0   0   0]\n",
      " [  0   0   0   0   0   0   0   0   0   0   0   0   0  81 240 253 253 119\n",
      "   25   0   0   0   0   0   0   0   0   0]\n",
      " [  0   0   0   0   0   0   0   0   0   0   0   0   0   0  45 186 253 253\n",
      "  150  27   0   0   0   0   0   0   0   0]\n",
      " [  0   0   0   0   0   0   0   0   0   0   0   0   0   0   0  16  93 252\n",
      "  253 187   0   0   0   0   0   0   0   0]\n",
      " [  0   0   0   0   0   0   0   0   0   0   0   0   0   0   0   0   0 249\n",
      "  253 249  64   0   0   0   0   0   0   0]\n",
      " [  0   0   0   0   0   0   0   0   0   0   0   0   0   0  46 130 183 253\n",
      "  253 207   2   0   0   0   0   0   0   0]\n",
      " [  0   0   0   0   0   0   0   0   0   0   0   0  39 148 229 253 253 253\n",
      "  250 182   0   0   0   0   0   0   0   0]\n",
      " [  0   0   0   0   0   0   0   0   0   0  24 114 221 253 253 253 253 201\n",
      "   78   0   0   0   0   0   0   0   0   0]\n",
      " [  0   0   0   0   0   0   0   0  23  66 213 253 253 253 253 198  81   2\n",
      "    0   0   0   0   0   0   0   0   0   0]\n",
      " [  0   0   0   0   0   0  18 171 219 253 253 253 253 195  80   9   0   0\n",
      "    0   0   0   0   0   0   0   0   0   0]\n",
      " [  0   0   0   0  55 172 226 253 253 253 253 244 133  11   0   0   0   0\n",
      "    0   0   0   0   0   0   0   0   0   0]\n",
      " [  0   0   0   0 136 253 253 253 212 135 132  16   0   0   0   0   0   0\n",
      "    0   0   0   0   0   0   0   0   0   0]\n",
      " [  0   0   0   0   0   0   0   0   0   0   0   0   0   0   0   0   0   0\n",
      "    0   0   0   0   0   0   0   0   0   0]\n",
      " [  0   0   0   0   0   0   0   0   0   0   0   0   0   0   0   0   0   0\n",
      "    0   0   0   0   0   0   0   0   0   0]\n",
      " [  0   0   0   0   0   0   0   0   0   0   0   0   0   0   0   0   0   0\n",
      "    0   0   0   0   0   0   0   0   0   0]]\n"
     ]
    }
   ],
   "source": [
    "plt.figure()\n",
    "plt.imshow(x_train[0], 'gray')\n",
    "plt.show()\n",
    "print('y_train:', y_train)\n",
    "print('x_train[0]:',x_train[0])"
   ]
  },
  {
   "cell_type": "code",
   "execution_count": 7,
   "metadata": {},
   "outputs": [],
   "source": [
    "(x_train, y_train),(x_test, y_test) = mnist.load_data()"
   ]
  },
  {
   "cell_type": "code",
   "execution_count": 8,
   "metadata": {},
   "outputs": [
    {
     "name": "stdout",
     "output_type": "stream",
     "text": [
      "shape: (28, 28)\n"
     ]
    }
   ],
   "source": [
    "shape = x_train.shape[1:]\n",
    "print('shape:', shape)"
   ]
  },
  {
   "cell_type": "code",
   "execution_count": 9,
   "metadata": {},
   "outputs": [],
   "source": [
    "#data normalize\n",
    "reshaped_x_train = x_train.reshape(-1, 784)\n",
    "reshaped_x_test = x_test.reshape(-1, np.prod(shape))\n",
    "\n",
    "X_train = reshaped_x_train /255.\n",
    "X_test = reshaped_x_test /255."
   ]
  },
  {
   "cell_type": "code",
   "execution_count": 10,
   "metadata": {},
   "outputs": [
    {
     "name": "stdout",
     "output_type": "stream",
     "text": [
      "10x10 Identity matrix \n",
      " [[1. 0. 0. 0. 0. 0. 0. 0. 0. 0.]\n",
      " [0. 1. 0. 0. 0. 0. 0. 0. 0. 0.]\n",
      " [0. 0. 1. 0. 0. 0. 0. 0. 0. 0.]\n",
      " [0. 0. 0. 1. 0. 0. 0. 0. 0. 0.]\n",
      " [0. 0. 0. 0. 1. 0. 0. 0. 0. 0.]\n",
      " [0. 0. 0. 0. 0. 1. 0. 0. 0. 0.]\n",
      " [0. 0. 0. 0. 0. 0. 1. 0. 0. 0.]\n",
      " [0. 0. 0. 0. 0. 0. 0. 1. 0. 0.]\n",
      " [0. 0. 0. 0. 0. 0. 0. 0. 1. 0.]\n",
      " [0. 0. 0. 0. 0. 0. 0. 0. 0. 1.]]\n",
      "sparse label:  [1 3 5 7 9]\n",
      "sparse label to one hot label\n",
      " [[0. 1. 0. 0. 0. 0. 0. 0. 0. 0.]\n",
      " [0. 0. 0. 1. 0. 0. 0. 0. 0. 0.]\n",
      " [0. 0. 0. 0. 0. 1. 0. 0. 0. 0.]\n",
      " [0. 0. 0. 0. 0. 0. 0. 1. 0. 0.]\n",
      " [0. 0. 0. 0. 0. 0. 0. 0. 0. 1.]]\n"
     ]
    }
   ],
   "source": [
    "#sparse label to one-hot label\n",
    "\n",
    "print('10x10 Identity matrix \\n', np.eye(10))\n",
    "sparse_label = np.array([1,3,5,7,9])\n",
    "print('sparse label: ', sparse_label)\n",
    "print('sparse label to one hot label\\n', np.eye(10)[sparse_label])"
   ]
  },
  {
   "cell_type": "code",
   "execution_count": 11,
   "metadata": {},
   "outputs": [],
   "source": [
    "Y_train = np.eye(10)[y_train]\n",
    "Y_test = np.eye(10)[y_test]"
   ]
  },
  {
   "cell_type": "markdown",
   "metadata": {},
   "source": [
    "*data load, preprocess sum-up*"
   ]
  },
  {
   "cell_type": "code",
   "execution_count": 12,
   "metadata": {},
   "outputs": [
    {
     "name": "stdout",
     "output_type": "stream",
     "text": [
      "image shape:  (60000, 28, 28) (10000, 28, 28)\n",
      "label shape:  (60000,) (10000,)\n"
     ]
    }
   ],
   "source": [
    "(x_train, y_train), (x_test, y_test) = mnist.load_data()\n",
    "#original image data (28x28 per sample, unnormalized)\n",
    "#original image label (sparse encoding)\n",
    "print('image shape: ',x_train.shape, x_test.shape)\n",
    "print('label shape: ',y_train.shape, y_test.shape)"
   ]
  },
  {
   "cell_type": "code",
   "execution_count": 13,
   "metadata": {},
   "outputs": [],
   "source": [
    "#Hyper parameter setting\n",
    "learning_rate = .1\n",
    "training_epochs = 100\n",
    "display_step = 5"
   ]
  },
  {
   "cell_type": "code",
   "execution_count": 14,
   "metadata": {},
   "outputs": [],
   "source": [
    "tf_X = tf.placeholder(tf.float32, [None, 784])\n",
    "tf_Y = tf.placeholder(tf.float32, [None, 10])\n",
    "W = tf.Variable(tf.zeros([784, 10]))\n",
    "b = tf.Variable(tf.zeros([10]))\n",
    "\n",
    "pred = tf.nn.softmax(tf.matmul(tf_X, W) + b)\n",
    "\n",
    "#cross entropy loss\n",
    "loss = tf.reduce_mean(-tf.reduce_sum(tf_Y * tf.log(pred), axis=1))\n",
    "optimizer = tf.train.GradientDescentOptimizer(learning_rate).minimize(loss)"
   ]
  },
  {
   "cell_type": "code",
   "execution_count": 15,
   "metadata": {},
   "outputs": [
    {
     "name": "stdout",
     "output_type": "stream",
     "text": [
      "최적화 완료\n",
      "정확도: 0.8707\n"
     ]
    }
   ],
   "source": [
    "#train\n",
    "init = tf.global_variables_initializer()\n",
    "\n",
    "sess  = tf.Session()\n",
    "sess.run(init)\n",
    "for epoch in range(0, training_epochs):\n",
    "    sess.run(optimizer, feed_dict={tf_X:X_train, tf_Y: Y_train})\n",
    "    \n",
    "print('최적화 완료')\n",
    "\n",
    "correct_prediction = tf.equal(tf.argmax(pred, 1), tf.argmax(tf_Y, 1))\n",
    "accuracy = tf.reduce_mean(tf.cast(correct_prediction, tf.float32))\n",
    "accuracy_eval = sess.run(accuracy, feed_dict={tf_X: X_test, tf_Y: Y_test})\n",
    "print('정확도:', accuracy_eval)"
   ]
  },
  {
   "cell_type": "code",
   "execution_count": 16,
   "metadata": {},
   "outputs": [
    {
     "data": {
      "text/plain": [
       "array([[ 946,    0,    3,    3,    0,    4,   15,    1,    8,    0],\n",
       "       [   0, 1089,    5,    3,    1,    4,    4,    0,   29,    0],\n",
       "       [  16,   19,  845,   26,   20,    0,   28,   22,   49,    7],\n",
       "       [   5,    2,   22,  880,    1,   32,    8,   20,   26,   14],\n",
       "       [   3,    8,    5,    0,  865,    1,   17,    2,   10,   71],\n",
       "       [  24,   15,    7,   74,   25,  650,   27,   11,   42,   17],\n",
       "       [  20,    5,   13,    2,   13,   20,  879,    0,    6,    0],\n",
       "       [   4,   38,   25,    1,   13,    0,    4,  889,   10,   44],\n",
       "       [  10,   16,   13,   40,   12,   22,   18,   14,  809,   20],\n",
       "       [  14,   13,   11,   12,   53,   11,    1,   28,   11,  855]])"
      ]
     },
     "execution_count": 16,
     "metadata": {},
     "output_type": "execute_result"
    }
   ],
   "source": [
    "#confusion matrix\n",
    "from sklearn.metrics import confusion_matrix\n",
    "\n",
    "y_test_pred = sess.run(pred, feed_dict={tf_X: X_test, tf_Y:Y_test})\n",
    "confusion_matrix(y_test, np.argmax(y_test_pred,1)) #y_pred"
   ]
  },
  {
   "cell_type": "code",
   "execution_count": 17,
   "metadata": {},
   "outputs": [
    {
     "name": "stdout",
     "output_type": "stream",
     "text": [
      "Epoch: 5 \tLoss: 1.9290577\n",
      "Epoch: 10 \tLoss: 1.5986427\n",
      "Epoch: 15 \tLoss: 1.3717638\n",
      "Epoch: 20 \tLoss: 1.2122678\n",
      "Epoch: 25 \tLoss: 1.0960866\n",
      "Epoch: 30 \tLoss: 1.0083592\n",
      "Epoch: 35 \tLoss: 0.9399643\n",
      "Epoch: 40 \tLoss: 0.8851721\n",
      "Epoch: 45 \tLoss: 0.8402643\n",
      "Epoch: 50 \tLoss: 0.8027469\n",
      "Epoch: 55 \tLoss: 0.7708938\n",
      "Epoch: 60 \tLoss: 0.74347645\n",
      "Epoch: 65 \tLoss: 0.7195984\n",
      "Epoch: 70 \tLoss: 0.6985906\n",
      "Epoch: 75 \tLoss: 0.6799438\n",
      "Epoch: 80 \tLoss: 0.663264\n",
      "Epoch: 85 \tLoss: 0.64824116\n",
      "Epoch: 90 \tLoss: 0.6346279\n",
      "Epoch: 95 \tLoss: 0.62222415\n",
      "Epoch: 100 \tLoss: 0.61086744\n",
      "최적화 완료\n",
      "정확도:  0.8707\n"
     ]
    }
   ],
   "source": [
    "#train\n",
    "init = tf.global_variables_initializer()\n",
    "\n",
    "sess = tf.Session()\n",
    "sess.run(init)\n",
    "losses = []\n",
    "for epoch in range(0, training_epochs):\n",
    "    _, I = sess.run([optimizer, loss], feed_dict={tf_X: X_train, tf_Y:Y_train})\n",
    "    \n",
    "    losses += [I]\n",
    "    if (epoch + 1) % display_step ==0:\n",
    "        print(\"Epoch:\",epoch+1,'\\tLoss:', I)\n",
    "print('최적화 완료')\n",
    "\n",
    "correct_prediction = tf.equal(tf.argmax(pred, 1), tf.argmax(tf_Y, 1))\n",
    "accuracy = tf.reduce_mean(tf.cast(correct_prediction, tf.float32))\n",
    "accuracy_eval = sess.run(accuracy, feed_dict={tf_X: X_test, tf_Y: Y_test})\n",
    "print(\"정확도: \", accuracy_eval)"
   ]
  },
  {
   "cell_type": "code",
   "execution_count": 18,
   "metadata": {},
   "outputs": [
    {
     "data": {
      "image/png": "[encoded data removed]",
      "text/plain": [
       "<Figure size 432x288 with 1 Axes>"
      ]
     },
     "metadata": {
      "needs_background": "light"
     },
     "output_type": "display_data"
    }
   ],
   "source": [
    "plt.figure()\n",
    "plt.plot(losses)\n",
    "plt.show() #loss의 변화"
   ]
  },
  {
   "cell_type": "code",
   "execution_count": 19,
   "metadata": {},
   "outputs": [
    {
     "name": "stderr",
     "output_type": "stream",
     "text": [
      "WARNING: Logging before flag parsing goes to stderr.\n",
      "W0821 15:55:35.484030 140469348726528 deprecation.py:323] From <ipython-input-19-2a2ed3089bf0>:6: dense (from tensorflow.python.layers.core) is deprecated and will be removed in a future version.\n",
      "Instructions for updating:\n",
      "Use keras.layers.dense instead.\n",
      "W0821 15:55:35.487808 140469348726528 deprecation.py:506] From /home/pirl/anaconda3/envs/tensorflow/lib/python3.7/site-packages/tensorflow/python/ops/init_ops.py:1251: calling VarianceScaling.__init__ (from tensorflow.python.ops.init_ops) with dtype is deprecated and will be removed in a future version.\n",
      "Instructions for updating:\n",
      "Call initializer instance with the dtype argument instead of passing it to the constructor\n",
      "W0821 15:55:35.727304 140469348726528 deprecation.py:323] From /home/pirl/anaconda3/envs/tensorflow/lib/python3.7/site-packages/tensorflow/python/ops/losses/losses_impl.py:121: add_dispatch_support.<locals>.wrapper (from tensorflow.python.ops.array_ops) is deprecated and will be removed in a future version.\n",
      "Instructions for updating:\n",
      "Use tf.where in 2.0, which has the same broadcast rule as np.where\n"
     ]
    }
   ],
   "source": [
    "##Model\n",
    "#build model and optimizer\n",
    "tf_X = tf.placeholder(tf.float32, [None, 784])\n",
    "tf_Y = tf.placeholder(tf.float32, [None, 10])\n",
    "\n",
    "logit = tf.layers.dense(tf_X, 10)\n",
    "pred = tf.nn.softmax(logit)\n",
    "\n",
    "#cross entropy loss\n",
    "loss = tf.losses.softmax_cross_entropy(tf_Y, logit)\n",
    "\n",
    "optimizer = tf.train.GradientDescentOptimizer(learning_rate).minimize(loss)"
   ]
  },
  {
   "cell_type": "code",
   "execution_count": 20,
   "metadata": {},
   "outputs": [
    {
     "name": "stdout",
     "output_type": "stream",
     "text": [
      "최적화 완료\n",
      "정확도:  0.8673\n"
     ]
    }
   ],
   "source": [
    "#train\n",
    "init = tf.global_variables_initializer()\n",
    "\n",
    "sess = tf.Session()\n",
    "sess.run(init)\n",
    "for epoch in range(0, training_epochs):\n",
    "    sess.run(optimizer, feed_dict={tf_X: X_train, tf_Y:Y_train})\n",
    "    \n",
    "print('최적화 완료')\n",
    "\n",
    "correct_prediction = tf.equal(tf.argmax(pred, 1), tf.argmax(tf_Y, 1))\n",
    "accuracy = tf.reduce_mean(tf.cast(correct_prediction, tf.float32))\n",
    "accuracy_eval = sess.run(accuracy, feed_dict={tf_X: X_test, tf_Y: Y_test})\n",
    "print(\"정확도: \", accuracy_eval)"
   ]
  },
  {
   "cell_type": "code",
   "execution_count": 21,
   "metadata": {},
   "outputs": [
    {
     "data": {
      "text/plain": [
       "array([[ 940,    0,    2,    4,    0,    8,   16,    1,    9,    0],\n",
       "       [   0, 1093,   15,    4,    1,    0,    4,    1,   17,    0],\n",
       "       [  25,   25,  838,   24,   22,    0,   25,   24,   44,    5],\n",
       "       [   7,    3,   25,  878,    1,   28,    6,   18,   27,   17],\n",
       "       [   2,    8,    4,    1,  861,    2,   17,    2,   12,   73],\n",
       "       [  20,   12,   10,   77,   29,  642,   27,   10,   49,   16],\n",
       "       [  21,    3,   18,    1,   12,   19,  873,    1,   10,    0],\n",
       "       [   3,   35,   33,    2,   16,    0,    2,  886,   10,   41],\n",
       "       [   7,   16,   14,   39,    9,   22,   18,   18,  813,   18],\n",
       "       [  15,   12,   10,   12,   54,   12,    3,   28,   14,  849]])"
      ]
     },
     "execution_count": 21,
     "metadata": {},
     "output_type": "execute_result"
    }
   ],
   "source": [
    "##confusion matrix\n",
    "from sklearn.metrics import confusion_matrix\n",
    "\n",
    "y_test_pred = sess.run(pred, feed_dict={tf_X:X_test, tf_Y:Y_test})\n",
    "confusion_matrix(y_test, np.argmax(y_test_pred, 1))"
   ]
  },
  {
   "cell_type": "markdown",
   "metadata": {},
   "source": [
    "### multi-layer logistic regression\n",
    "\n",
    "click ! restart (?)"
   ]
  },
  {
   "cell_type": "code",
   "execution_count": 22,
   "metadata": {},
   "outputs": [],
   "source": [
    "import tensorflow as tf\n",
    "import numpy as np\n",
    "from tensorflow.keras.datasets import mnist\n",
    "from matplotlib import pyplot as plt\n",
    "from sklearn.metrics import confusion_matrix\n",
    "\n",
    "#fashion mnist 도 관심있으면 해보기"
   ]
  },
  {
   "cell_type": "code",
   "execution_count": 23,
   "metadata": {},
   "outputs": [],
   "source": [
    "#load data\n",
    "(x_train, y_train),(x_test, y_test) = mnist.load_data()"
   ]
  },
  {
   "cell_type": "code",
   "execution_count": 24,
   "metadata": {},
   "outputs": [
    {
     "data": {
      "image/png": "[encoded data removed]",
      "text/plain": [
       "<Figure size 432x288 with 1 Axes>"
      ]
     },
     "metadata": {
      "needs_background": "light"
     },
     "output_type": "display_data"
    },
    {
     "name": "stdout",
     "output_type": "stream",
     "text": [
      "[[[0 0 0 ... 0 0 0]\n",
      "  [0 0 0 ... 0 0 0]\n",
      "  [0 0 0 ... 0 0 0]\n",
      "  ...\n",
      "  [0 0 0 ... 0 0 0]\n",
      "  [0 0 0 ... 0 0 0]\n",
      "  [0 0 0 ... 0 0 0]]\n",
      "\n",
      " [[0 0 0 ... 0 0 0]\n",
      "  [0 0 0 ... 0 0 0]\n",
      "  [0 0 0 ... 0 0 0]\n",
      "  ...\n",
      "  [0 0 0 ... 0 0 0]\n",
      "  [0 0 0 ... 0 0 0]\n",
      "  [0 0 0 ... 0 0 0]]\n",
      "\n",
      " [[0 0 0 ... 0 0 0]\n",
      "  [0 0 0 ... 0 0 0]\n",
      "  [0 0 0 ... 0 0 0]\n",
      "  ...\n",
      "  [0 0 0 ... 0 0 0]\n",
      "  [0 0 0 ... 0 0 0]\n",
      "  [0 0 0 ... 0 0 0]]\n",
      "\n",
      " ...\n",
      "\n",
      " [[0 0 0 ... 0 0 0]\n",
      "  [0 0 0 ... 0 0 0]\n",
      "  [0 0 0 ... 0 0 0]\n",
      "  ...\n",
      "  [0 0 0 ... 0 0 0]\n",
      "  [0 0 0 ... 0 0 0]\n",
      "  [0 0 0 ... 0 0 0]]\n",
      "\n",
      " [[0 0 0 ... 0 0 0]\n",
      "  [0 0 0 ... 0 0 0]\n",
      "  [0 0 0 ... 0 0 0]\n",
      "  ...\n",
      "  [0 0 0 ... 0 0 0]\n",
      "  [0 0 0 ... 0 0 0]\n",
      "  [0 0 0 ... 0 0 0]]\n",
      "\n",
      " [[0 0 0 ... 0 0 0]\n",
      "  [0 0 0 ... 0 0 0]\n",
      "  [0 0 0 ... 0 0 0]\n",
      "  ...\n",
      "  [0 0 0 ... 0 0 0]\n",
      "  [0 0 0 ... 0 0 0]\n",
      "  [0 0 0 ... 0 0 0]]]\n",
      "[5 0 4 ... 5 6 8]\n"
     ]
    }
   ],
   "source": [
    "#data check\n",
    "plt.figure()\n",
    "plt.imshow(x_train[0])\n",
    "plt.show()\n",
    "print(x_train)\n",
    "print(y_train)"
   ]
  },
  {
   "cell_type": "code",
   "execution_count": 25,
   "metadata": {},
   "outputs": [],
   "source": [
    "##data preprocessing (x reshape, xnormalize, one-hot encoding)\n",
    "shape = x_train.shape[1:]\n",
    "\n",
    "#x data reshape\n",
    "reshaped_x_train = x_train.reshape(-1, np.prod(shape))\n",
    "reshaped_x_test = x_test.reshape(-1, np.prod(shape))\n",
    "\n",
    "#x data normalization\n",
    "X_train = reshaped_x_train / 255\n",
    "X_test = reshaped_x_test / 255\n",
    "\n",
    "# y data one hot encoding\n",
    "Y_train = np.eye(10)[y_train.reshape(-1)]\n",
    "Y_test = np.eye(10)[y_test.reshape(-1)]"
   ]
  },
  {
   "cell_type": "code",
   "execution_count": 26,
   "metadata": {},
   "outputs": [
    {
     "name": "stdout",
     "output_type": "stream",
     "text": [
      "X data shape: (60000, 784) (10000, 784)\n",
      "Y data shape: (60000, 10) (10000, 10)\n",
      "\n",
      "X train data\n",
      "[[0. 0. 0. ... 0. 0. 0.]\n",
      " [0. 0. 0. ... 0. 0. 0.]\n",
      " [0. 0. 0. ... 0. 0. 0.]\n",
      " ...\n",
      " [0. 0. 0. ... 0. 0. 0.]\n",
      " [0. 0. 0. ... 0. 0. 0.]\n",
      " [0. 0. 0. ... 0. 0. 0.]]\n",
      "X test data\n",
      "[[0. 0. 0. ... 0. 0. 0.]\n",
      " [0. 0. 0. ... 0. 0. 0.]\n",
      " [0. 0. 0. ... 0. 0. 0.]\n",
      " ...\n",
      " [0. 0. 0. ... 0. 0. 0.]\n",
      " [0. 0. 0. ... 0. 0. 0.]\n",
      " [0. 0. 0. ... 0. 0. 0.]]\n",
      "\n",
      "Y train data\n",
      "[[0. 0. 0. ... 0. 0. 0.]\n",
      " [1. 0. 0. ... 0. 0. 0.]\n",
      " [0. 0. 0. ... 0. 0. 0.]\n",
      " ...\n",
      " [0. 0. 0. ... 0. 0. 0.]\n",
      " [0. 0. 0. ... 0. 0. 0.]\n",
      " [0. 0. 0. ... 0. 1. 0.]]\n",
      "Y test data\n",
      "[[0. 0. 0. ... 1. 0. 0.]\n",
      " [0. 0. 1. ... 0. 0. 0.]\n",
      " [0. 1. 0. ... 0. 0. 0.]\n",
      " ...\n",
      " [0. 0. 0. ... 0. 0. 0.]\n",
      " [0. 0. 0. ... 0. 0. 0.]\n",
      " [0. 0. 0. ... 0. 0. 0.]]\n"
     ]
    }
   ],
   "source": [
    "print('X data shape:', X_train.shape, X_test.shape)\n",
    "print('Y data shape:', Y_train.shape, Y_test.shape)\n",
    "print()\n",
    "\n",
    "print('X train data')\n",
    "print(X_train)\n",
    "print('X test data')\n",
    "print(X_test)\n",
    "print()\n",
    "\n",
    "print('Y train data')\n",
    "print(Y_train)\n",
    "print('Y test data')\n",
    "print(Y_test)"
   ]
  },
  {
   "cell_type": "markdown",
   "metadata": {},
   "source": [
    "**Multi Layer Logistic Regression**"
   ]
  },
  {
   "cell_type": "code",
   "execution_count": 27,
   "metadata": {},
   "outputs": [],
   "source": [
    "#hyper parameter setting\n",
    "learning_rate = 1e-1\n",
    "training_epochs = 25\n",
    "display_step = 5\n",
    "batch_size = 32\n",
    "act = tf.nn.relu\n",
    "h = 200"
   ]
  },
  {
   "cell_type": "code",
   "execution_count": 29,
   "metadata": {},
   "outputs": [],
   "source": [
    "tf.reset_default_graph()\n",
    "\n",
    "tf_X = tf.placeholder(tf.float32, [None, np.prod(shape)])\n",
    "tf_Y = tf.placeholder(tf.float32, [None,10])\n",
    "\n",
    "w1 = tf.get_variable('w1', [np.prod(shape), h])\n",
    "b1 = tf.get_variable('b1',[h])\n",
    "w2 = tf.get_variable('w2', [h,10])\n",
    "b2 = tf.get_variable('b2',[10])\n",
    "\n",
    "hidden1 = act(tf_X @ w1 + b1)\n",
    "pred = tf.nn.softmax(hidden1 @ w2 + b2)\n",
    "\n",
    "loss = tf.reduce_mean(-tf.reduce_sum(tf_Y * tf.log(pred), axis=1))\n",
    "optimizer = tf.train.GradientDescentOptimizer(learning_rate).minimize(loss)\n",
    "\n",
    "\n",
    "#tf.reset_default_graph()\n",
    "##place holder\n",
    "#tf_X = tf.placeholder(tf.float32, [None, np.prod(shape)])\n",
    "#tf_Y = tf.placeholder(tf.float32, [None,10])\n",
    "##model\n",
    "#hidden1 = tf.layers.dense(tf_X, h, activation=act)\n",
    "#logit = tf.layers.dense(hidden1, 10)\n",
    "#pred = tf.nn.softmax(logit)\n",
    "##cross entropy loss\n",
    "#loss = tf.losses.softmax_cross_entropy(tf_Y, logit)\n",
    "#optimizer = tf.train.GradientDescentOptimizer(learning_rate)minimize(loss)"
   ]
  },
  {
   "cell_type": "code",
   "execution_count": 35,
   "metadata": {},
   "outputs": [
    {
     "name": "stdout",
     "output_type": "stream",
     "text": [
      "Epoch: 5 \tLoss: 2.0145237\n",
      "Epoch: 10 \tLoss: 1.6449193\n",
      "Epoch: 15 \tLoss: 1.3562771\n",
      "Epoch: 20 \tLoss: 1.1436037\n",
      "Epoch: 25 \tLoss: 0.9908431\n",
      "최적화 완료\n",
      "정확도: 0.8183\n"
     ]
    }
   ],
   "source": [
    "init = tf.global_variables_initializer()\n",
    "\n",
    "with tf.Session() as sess:\n",
    "    sess.run(init)\n",
    "    losses = [sess.run(loss, feed_dict={tf_X:X_train, tf_Y:Y_train})]\n",
    "    for epoch in range(training_epochs):\n",
    "        _,I = sess.run([optimizer, loss], feed_dict={tf_X:X_train, tf_Y:Y_train})\n",
    "        losses.append(I)\n",
    "        \n",
    "        if (epoch+1)% display_step ==0:\n",
    "            print(\"Epoch:\", epoch + 1, '\\tLoss:',I)\n",
    "    print('최적화 완료')\n",
    "    \n",
    "    correct_prediction = tf.equal(tf.argmax(pred, 1), tf.argmax(tf_Y, 1))\n",
    "    accuracy = tf.reduce_mean(tf.cast(correct_prediction, tf.float32))\n",
    "    test_accuracy, y_test_pred = sess.run([accuracy, pred], feed_dict={tf_X:X_test, tf_Y:Y_test})\n",
    "    print('정확도:',test_accuracy)"
   ]
  },
  {
   "cell_type": "code",
   "execution_count": 36,
   "metadata": {},
   "outputs": [
    {
     "data": {
      "image/png": "[encoded data removed]",
      "text/plain": [
       "<Figure size 432x288 with 1 Axes>"
      ]
     },
     "metadata": {
      "needs_background": "light"
     },
     "output_type": "display_data"
    },
    {
     "data": {
      "text/plain": [
       "array([[ 928,    0,   28,   12,    3,   34,   25,    8,   12,   14],\n",
       "       [   0, 1080,   43,   11,   18,   14,   14,   47,   43,   17],\n",
       "       [   3,    5,  805,   24,    2,   20,   21,   24,   22,    8],\n",
       "       [  10,    5,   27,  845,    1,  107,    2,    0,   63,    9],\n",
       "       [   0,    0,   16,    1,  757,   26,    9,   10,   17,  142],\n",
       "       [   4,    2,    0,   24,    0,  555,   11,    0,   17,    7],\n",
       "       [  22,    8,   50,   14,   36,   48,  866,    3,   19,    1],\n",
       "       [   2,    1,   20,   21,    4,   26,    0,  875,   19,   41],\n",
       "       [  10,   33,   40,   44,    4,   36,   10,   19,  723,   21],\n",
       "       [   1,    1,    3,   14,  157,   26,    0,   42,   39,  749]])"
      ]
     },
     "execution_count": 36,
     "metadata": {},
     "output_type": "execute_result"
    }
   ],
   "source": [
    "#plot losses\n",
    "plt.figure()\n",
    "plt.plot(losses)\n",
    "plt.show()\n",
    "\n",
    "#print confusion matrix\n",
    "confusion_matrix(np.argmax(y_test_pred,1), y_test)"
   ]
  },
  {
   "cell_type": "code",
   "execution_count": 37,
   "metadata": {},
   "outputs": [
    {
     "name": "stdout",
     "output_type": "stream",
     "text": [
      "Epoch: 5 \tLoss: 0.017692996\n",
      "Epoch: 10 \tLoss: 0.0061934916\n",
      "Epoch: 15 \tLoss: 0.0027506952\n",
      "Epoch: 20 \tLoss: 0.0022309064\n",
      "Epoch: 25 \tLoss: 0.0011980622\n",
      "최적화 완료\n",
      "정확도: 0.98\n"
     ]
    }
   ],
   "source": [
    "init = tf.global_variables_initializer()\n",
    "\n",
    "with tf.Session() as sess:\n",
    "    #init\n",
    "    sess.run(init)\n",
    "    #train\n",
    "    total_batch = int(len(X_train)/batch_size)\n",
    "    losses = [sess.run(loss, feed_dict={tf_X:X_train, tf_Y:Y_train})]\n",
    "    for epoch in range(0, training_epochs):\n",
    "        for i in range(total_batch):\n",
    "            #get batch\n",
    "            x_batch = X_train[i*batch_size:(i+1)*batch_size]\n",
    "            y_batch = Y_train[i*batch_size:(i+1)*batch_size]\n",
    "            \n",
    "            #get loss in sess.run ###batch input\n",
    "            _,I = sess.run([optimizer, loss], feed_dict={tf_X:x_batch, tf_Y:y_batch})\n",
    "        losses.append(I) #save loss\n",
    "        \n",
    "        if (epoch+1)% display_step ==0:\n",
    "            print(\"Epoch:\", epoch + 1, '\\tLoss:',I)\n",
    "    print('최적화 완료')\n",
    "    \n",
    "    #result\n",
    "    correct_prediction = tf.equal(tf.argmax(pred, 1), tf.argmax(tf_Y, 1))\n",
    "    accuracy = tf.reduce_mean(tf.cast(correct_prediction, tf.float32))\n",
    "    test_accuracy, y_test_pred = sess.run([accuracy, pred], feed_dict={tf_X:X_test, tf_Y:Y_test})\n",
    "    print('정확도:',test_accuracy)"
   ]
  },
  {
   "cell_type": "code",
   "execution_count": 33,
   "metadata": {},
   "outputs": [
    {
     "data": {
      "image/png": "[encoded data removed]",
      "text/plain": [
       "<Figure size 432x288 with 1 Axes>"
      ]
     },
     "metadata": {
      "needs_background": "light"
     },
     "output_type": "display_data"
    },
    {
     "data": {
      "text/plain": [
       "array([[ 974,    0,    4,    1,    0,    2,    6,    2,    7,    2],\n",
       "       [   0, 1127,    1,    0,    0,    0,    3,    5,    1,    2],\n",
       "       [   1,    2, 1016,    5,    4,    0,    3,   10,    5,    0],\n",
       "       [   0,    1,    1,  990,    0,    6,    1,    0,    7,    4],\n",
       "       [   1,    0,    2,    0,  968,    2,    6,    4,    4,   11],\n",
       "       [   0,    1,    0,    4,    0,  873,    7,    1,    6,    2],\n",
       "       [   0,    2,    1,    0,    1,    4,  932,    0,    3,    1],\n",
       "       [   1,    1,    4,    2,    1,    2,    0, 1000,    2,    2],\n",
       "       [   2,    1,    3,    2,    0,    2,    0,    1,  934,    1],\n",
       "       [   1,    0,    0,    6,    8,    1,    0,    5,    5,  984]])"
      ]
     },
     "execution_count": 33,
     "metadata": {},
     "output_type": "execute_result"
    }
   ],
   "source": [
    "#plot losses\n",
    "plt.figure()\n",
    "plt.plot(losses)\n",
    "plt.show()\n",
    "\n",
    "#print confusion matrix\n",
    "confusion_matrix(np.argmax(y_test_pred,1), y_test)"
   ]
  },
  {
   "cell_type": "code",
   "execution_count": 38,
   "metadata": {},
   "outputs": [
    {
     "name": "stdout",
     "output_type": "stream",
     "text": [
      "Epoch: 5 \tLoss: 0.012583742\n",
      "Epoch: 10 \tLoss: 0.003447161\n",
      "Epoch: 15 \tLoss: 0.005379557\n",
      "Epoch: 20 \tLoss: 0.015217696\n",
      "Epoch: 25 \tLoss: 0.005712798\n",
      "최적화 완료\n",
      "정확도: 0.9814\n"
     ]
    }
   ],
   "source": [
    "## train and result (with batch - iteration losses)\n",
    "# train\n",
    "init = tf.global_variables_initializer()\n",
    "\n",
    "with tf.Session() as sess:\n",
    "    # init\n",
    "    sess.run(init)\n",
    "    \n",
    "    # train\n",
    "    total_batch = int( len(X_train)/batch_size )  # total batch: number of batches\n",
    "    losses = [sess.run(loss, feed_dict={tf_X: X_train, tf_Y: Y_train})]  # init loss list\n",
    "    iteration_losses = [sess.run(loss, feed_dict={tf_X: X_train, tf_Y: Y_train})] ### init iteration losses\n",
    "    for epoch in range(0, training_epochs):\n",
    "        # shuffle\n",
    "        idx = np.random.permutation(len(X_train))\n",
    "        shuffled_X_train = X_train[idx]\n",
    "        shuffled_Y_train = Y_train[idx]\n",
    "        \n",
    "        for i in range(total_batch):\n",
    "            # get batch\n",
    "            x_batch = shuffled_X_train[i*batch_size:(i+1)*batch_size]\n",
    "            y_batch = shuffled_Y_train[i*batch_size:(i+1)*batch_size]\n",
    "            \n",
    "            # get loss in sess.run # batch input\n",
    "            _, l = sess.run([optimizer, loss], feed_dict={tf_X: x_batch, tf_Y: y_batch}) \n",
    "            iteration_losses.append(l)  ### save iteration loss\n",
    "        losses.append(l)  # save loss\n",
    "\n",
    "        if (epoch + 1) % display_step == 0:\n",
    "            print(\"Epoch:\", epoch + 1, \"\\tLoss:\", l) \n",
    "\n",
    "    print(\"최적화 완료\") \n",
    "\n",
    "    # result\n",
    "    correct_prediction = tf.equal(tf.argmax(pred, 1), tf.argmax(tf_Y, 1))\n",
    "    accuracy = tf.reduce_mean(tf.cast(correct_prediction, tf.float32))\n",
    "    test_accuracy, y_test_pred = sess.run([accuracy, pred], \n",
    "                                          feed_dict={tf_X: X_test, tf_Y: Y_test})\n",
    "    print(\"정확도:\", test_accuracy)"
   ]
  },
  {
   "cell_type": "code",
   "execution_count": 39,
   "metadata": {},
   "outputs": [
    {
     "name": "stdout",
     "output_type": "stream",
     "text": [
      "test accuracy: 0.9814\n"
     ]
    },
    {
     "data": {
      "image/png": "[encoded data removed]",
      "text/plain": [
       "<Figure size 432x288 with 1 Axes>"
      ]
     },
     "metadata": {
      "needs_background": "light"
     },
     "output_type": "display_data"
    },
    {
     "data": {
      "image/png": "[encoded data removed]",
      "text/plain": [
       "<Figure size 432x288 with 1 Axes>"
      ]
     },
     "metadata": {
      "needs_background": "light"
     },
     "output_type": "display_data"
    },
    {
     "data": {
      "text/plain": [
       "array([[ 970,    0,    4,    2,    0,    2,    5,    2,    3,    1],\n",
       "       [   0, 1127,    1,    0,    0,    0,    3,    3,    0,    2],\n",
       "       [   1,    2, 1008,    3,    3,    0,    2,    6,    4,    0],\n",
       "       [   0,    1,    4,  991,    0,    5,    1,    3,    6,    3],\n",
       "       [   1,    0,    3,    0,  967,    1,    4,    0,    6,    7],\n",
       "       [   1,    0,    0,    3,    0,  875,    3,    0,    3,    1],\n",
       "       [   2,    2,    2,    0,    3,    2,  939,    0,    2,    1],\n",
       "       [   1,    1,    5,    3,    2,    1,    0, 1006,    3,    5],\n",
       "       [   3,    2,    5,    1,    0,    3,    1,    3,  942,    0],\n",
       "       [   1,    0,    0,    7,    7,    3,    0,    5,    5,  989]])"
      ]
     },
     "execution_count": 39,
     "metadata": {},
     "output_type": "execute_result"
    }
   ],
   "source": [
    "print('test accuracy:', test_accuracy)\n",
    "# plot losses\n",
    "plt.figure()\n",
    "plt.plot(losses)\n",
    "plt.show()\n",
    "# plot iteration losses\n",
    "plt.figure()\n",
    "plt.plot(iteration_losses)\n",
    "plt.show()\n",
    "\n",
    "# print confusion matrix\n",
    "confusion_matrix(np.argmax(y_test_pred, 1), y_test)"
   ]
  },
  {
   "cell_type": "code",
   "execution_count": null,
   "metadata": {},
   "outputs": [],
   "source": []
  }
 ],
 "metadata": {
  "kernelspec": {
   "display_name": "Tensorflow",
   "language": "python",
   "name": "tensorflow"
  },
  "language_info": {
   "codemirror_mode": {
    "name": "ipython",
    "version": 3
   },
   "file_extension": ".py",
   "mimetype": "text/x-python",
   "name": "python",
   "nbconvert_exporter": "python",
   "pygments_lexer": "ipython3",
   "version": "3.7.4"
  }
 },
 "nbformat": 4,
 "nbformat_minor": 2
}
