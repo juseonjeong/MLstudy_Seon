{
 "cells": [
  {
   "cell_type": "markdown",
   "metadata": {},
   "source": [
    "#### 음악 만들기 *with tensorflow* !!"
   ]
  },
  {
   "cell_type": "code",
   "execution_count": 3,
   "metadata": {},
   "outputs": [
    {
     "ename": "ModuleNotFoundError",
     "evalue": "No module named 'deepmusic'",
     "output_type": "error",
     "traceback": [
      "\u001b[0;31m---------------------------------------------------------------------------\u001b[0m",
      "\u001b[0;31mModuleNotFoundError\u001b[0m                       Traceback (most recent call last)",
      "\u001b[0;32m<ipython-input-3-27fbe9a0950a>\u001b[0m in \u001b[0;36m<module>\u001b[0;34m\u001b[0m\n\u001b[1;32m      1\u001b[0m \u001b[0;31m#dependencies\u001b[0m\u001b[0;34m\u001b[0m\u001b[0;34m\u001b[0m\u001b[0;34m\u001b[0m\u001b[0m\n\u001b[0;32m----> 2\u001b[0;31m \u001b[0;32mfrom\u001b[0m \u001b[0mdeepmusic\u001b[0m\u001b[0;34m.\u001b[0m\u001b[0mmoduleloader\u001b[0m \u001b[0;32mimport\u001b[0m \u001b[0mModuleLoader\u001b[0m\u001b[0;34m\u001b[0m\u001b[0;34m\u001b[0m\u001b[0m\n\u001b[0m\u001b[1;32m      3\u001b[0m \u001b[0;31m#predicts next key\u001b[0m\u001b[0;34m\u001b[0m\u001b[0;34m\u001b[0m\u001b[0;34m\u001b[0m\u001b[0m\n\u001b[1;32m      4\u001b[0m \u001b[0;32mfrom\u001b[0m \u001b[0mdeepmusic\u001b[0m\u001b[0;34m.\u001b[0m\u001b[0mkeyboardcell\u001b[0m \u001b[0;32mimport\u001b[0m \u001b[0mKeyboardCell\u001b[0m\u001b[0;34m\u001b[0m\u001b[0;34m\u001b[0m\u001b[0m\n\u001b[1;32m      5\u001b[0m \u001b[0;31m#encapsulate song data so we can run get_scale, get_relative_methods\u001b[0m\u001b[0;34m\u001b[0m\u001b[0;34m\u001b[0m\u001b[0;34m\u001b[0m\u001b[0m\n",
      "\u001b[0;31mModuleNotFoundError\u001b[0m: No module named 'deepmusic'"
     ]
    }
   ],
   "source": [
    "#dependencies\n",
    "from deepmusic.moduleloader import ModuleLoader\n",
    "#predicts next key\n",
    "from deepmusic.keyboardcell import KeyboardCell\n",
    "#encapsulate song data so we can run get_scale, get_relative_methods\n",
    "import deepmusic.songstruct as music"
   ]
  },
  {
   "cell_type": "code",
   "execution_count": 2,
   "metadata": {},
   "outputs": [],
   "source": [
    "#generate random numbers\n",
    "import numpy as np\n",
    "#for FLOWing\n",
    "import tensorflow"
   ]
  },
  {
   "cell_type": "code",
   "execution_count": null,
   "metadata": {},
   "outputs": [],
   "source": [
    "def build_network(self):\n",
    "    #create computation graph, encapsulate session and the graph init\n",
    "    input_dim = ModuleLoader.batch_builders.get_module().get_input_dim()\n",
    "    \n",
    "    #note data : format MIDI\n",
    "    with tf.name_scope('placeholder_inputs'):\n",
    "        self.inputs = [\n",
    "            tf.placeholder(\n",
    "            tf.float32, #numerical data\n",
    "            [self.batch_size, input_dim], #how nuch data ( batch size )\n",
    "            name='input'\n",
    "            )\n",
    "        ]\n",
    "        \n",
    "    #targets 88 key(piano), binary classification problem - key가 눌렸는지(1) 눌리지 않았는지(0)\n",
    "    with tf.name_scope('placeholder_targets'):\n",
    "        self.targets = [\n",
    "            tf.placeholder(\n",
    "            tf.int32, #0 or 1\n",
    "            [self.batch_size],\n",
    "            name='target')\n",
    "        ]\n",
    "        \n",
    "    #hidden state\n",
    "    with tf.name_scope('placeholder_use_prev'):\n",
    "        self.use_prev = p[\n",
    "            tf.placeholder(\n",
    "            tf.bool,\n",
    "            [],\n",
    "            name='use_prev')\n",
    "        ]\n",
    "            \n",
    "    #define our network\n",
    "    self.loop_processing = ModuleLoader.loop_processings.build_module(self.args)\n",
    "    def loop_rnn(prev, i):\n",
    "        nex_input = self.loop_processing(prev)\n",
    "        return tf.cond(self.prev[i], lambda: nex_input, lambda: self.inputs[i])\n",
    "    \n",
    "    #build seq2seq model\n",
    "    self.outputs, self.final_state = tf.nn.seq2seq.rnn_decoder(\n",
    "        decoder_inputs = self.inputs, #because defined in keyboard cell\n",
    "        initial_state=None,\n",
    "        cell=KeyboardCell,\n",
    "        loop_function=loop_rnn\n",
    "    )\n",
    "    \n",
    "    #training step\n",
    "    #lets define our loss function : cross entropy -multi-classification\n",
    "    \n",
    "    loss_fct = tf.nn.seq2seq.seuence_loss(\n",
    "    self.outputs,\n",
    "    self.targets,\n",
    "    softmax_loss_function=tf.nn.softmax.cross_entropy_with_logits,\n",
    "    average_across_timesteps=True,\n",
    "    average_across_batch=True\n",
    "    )\n",
    "    \n",
    "    #initialize the optimizer, minimize the loss\n",
    "    opt = tf.train.AdamOptimizer(\n",
    "        learning_rate=self.current_learning_rate,\n",
    "        betal=0.9,\n",
    "        beta2=0.999,\n",
    "        epsilon=1e-08\n",
    "    )\n",
    "    \n",
    "    self.opt_op = opt.minimize(loss_fct)\n",
    "    "
   ]
  }
 ],
 "metadata": {
  "kernelspec": {
   "display_name": "Tensorflow",
   "language": "python",
   "name": "tensorflow"
  },
  "language_info": {
   "codemirror_mode": {
    "name": "ipython",
    "version": 3
   },
   "file_extension": ".py",
   "mimetype": "text/x-python",
   "name": "python",
   "nbconvert_exporter": "python",
   "pygments_lexer": "ipython3",
   "version": "3.7.4"
  }
 },
 "nbformat": 4,
 "nbformat_minor": 2
}
